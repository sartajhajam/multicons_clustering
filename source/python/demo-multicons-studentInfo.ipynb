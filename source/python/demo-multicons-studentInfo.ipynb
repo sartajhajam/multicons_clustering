{
 "cells": [
  {
   "cell_type": "code",
   "execution_count": 1,
   "id": "ad252e34",
   "metadata": {},
   "outputs": [
    {
     "name": "stdout",
     "output_type": "stream",
     "text": [
      "Collecting fuzzy-c-means\n",
      "  Downloading fuzzy_c_means-1.6.4-py3-none-any.whl (9.3 kB)\n",
      "Collecting tabulate<0.9.0,>=0.8.9\n",
      "  Using cached tabulate-0.8.9-py3-none-any.whl (25 kB)\n",
      "Collecting pydantic<2.0.0,>=1.9.0\n",
      "  Downloading pydantic-1.9.1-cp39-cp39-win_amd64.whl (2.0 MB)\n",
      "Requirement already satisfied: numpy<2.0.0,>=1.21.1 in c:\\users\\acer\\anaconda3\\envs\\multicons\\lib\\site-packages (from fuzzy-c-means) (1.22.3)\n",
      "Collecting typer<0.5.0,>=0.4.0\n",
      "  Downloading typer-0.4.1-py3-none-any.whl (27 kB)\n",
      "Requirement already satisfied: typing-extensions>=3.7.4.3 in c:\\users\\acer\\anaconda3\\envs\\multicons\\lib\\site-packages (from pydantic<2.0.0,>=1.9.0->fuzzy-c-means) (4.1.1)\n",
      "Collecting click<9.0.0,>=7.1.1\n",
      "  Downloading click-8.1.3-py3-none-any.whl (96 kB)\n",
      "Requirement already satisfied: colorama in c:\\users\\acer\\anaconda3\\envs\\multicons\\lib\\site-packages (from click<9.0.0,>=7.1.1->typer<0.5.0,>=0.4.0->fuzzy-c-means) (0.4.4)\n",
      "Installing collected packages: click, typer, tabulate, pydantic, fuzzy-c-means\n",
      "Successfully installed click-8.1.3 fuzzy-c-means-1.6.4 pydantic-1.9.1 tabulate-0.8.9 typer-0.4.1\n",
      "Collecting matplotlib\n",
      "  Downloading matplotlib-3.5.2-cp39-cp39-win_amd64.whl (7.2 MB)\n",
      "Requirement already satisfied: packaging>=20.0 in c:\\users\\acer\\anaconda3\\envs\\multicons\\lib\\site-packages (from matplotlib) (21.3)\n",
      "Collecting fonttools>=4.22.0\n",
      "  Downloading fonttools-4.33.3-py3-none-any.whl (930 kB)\n",
      "Collecting cycler>=0.10\n",
      "  Downloading cycler-0.11.0-py3-none-any.whl (6.4 kB)\n",
      "Requirement already satisfied: pyparsing>=2.2.1 in c:\\users\\acer\\anaconda3\\envs\\multicons\\lib\\site-packages (from matplotlib) (3.0.4)\n",
      "Collecting kiwisolver>=1.0.1\n",
      "  Downloading kiwisolver-1.4.2-cp39-cp39-win_amd64.whl (55 kB)\n",
      "Requirement already satisfied: python-dateutil>=2.7 in c:\\users\\acer\\anaconda3\\envs\\multicons\\lib\\site-packages (from matplotlib) (2.8.2)\n",
      "Requirement already satisfied: numpy>=1.17 in c:\\users\\acer\\anaconda3\\envs\\multicons\\lib\\site-packages (from matplotlib) (1.22.3)\n",
      "Collecting pillow>=6.2.0\n",
      "  Downloading Pillow-9.1.1-cp39-cp39-win_amd64.whl (3.3 MB)\n",
      "Requirement already satisfied: six>=1.5 in c:\\users\\acer\\anaconda3\\envs\\multicons\\lib\\site-packages (from python-dateutil>=2.7->matplotlib) (1.16.0)\n",
      "Installing collected packages: pillow, kiwisolver, fonttools, cycler, matplotlib\n",
      "Successfully installed cycler-0.11.0 fonttools-4.33.3 kiwisolver-1.4.2 matplotlib-3.5.2 pillow-9.1.1\n",
      "Collecting sklearn\n",
      "  Using cached sklearn-0.0.tar.gz (1.1 kB)\n",
      "Requirement already satisfied: scikit-learn in c:\\users\\acer\\anaconda3\\envs\\multicons\\lib\\site-packages (from sklearn) (1.0.2)\n",
      "Requirement already satisfied: joblib>=0.11 in c:\\users\\acer\\anaconda3\\envs\\multicons\\lib\\site-packages (from scikit-learn->sklearn) (1.1.0)\n",
      "Requirement already satisfied: scipy>=1.1.0 in c:\\users\\acer\\anaconda3\\envs\\multicons\\lib\\site-packages (from scikit-learn->sklearn) (1.8.1)\n",
      "Requirement already satisfied: numpy>=1.14.6 in c:\\users\\acer\\anaconda3\\envs\\multicons\\lib\\site-packages (from scikit-learn->sklearn) (1.22.3)\n",
      "Requirement already satisfied: threadpoolctl>=2.0.0 in c:\\users\\acer\\anaconda3\\envs\\multicons\\lib\\site-packages (from scikit-learn->sklearn) (3.1.0)\n",
      "Building wheels for collected packages: sklearn\n",
      "  Building wheel for sklearn (setup.py): started\n",
      "  Building wheel for sklearn (setup.py): finished with status 'done'\n",
      "  Created wheel for sklearn: filename=sklearn-0.0-py2.py3-none-any.whl size=1310 sha256=2cf2b34c48267a05328906a935a8e61e79cb25051ccbef20444f55067696eeeb\n",
      "  Stored in directory: c:\\users\\acer\\appdata\\local\\pip\\cache\\wheels\\e4\\7b\\98\\b6466d71b8d738a0c547008b9eb39bf8676d1ff6ca4b22af1c\n",
      "Successfully built sklearn\n",
      "Installing collected packages: sklearn\n",
      "Successfully installed sklearn-0.0\n",
      "Collecting scikit-learn-extra\n",
      "  Downloading scikit_learn_extra-0.2.0-cp39-cp39-win_amd64.whl (380 kB)\n",
      "Requirement already satisfied: numpy>=1.13.3 in c:\\users\\acer\\anaconda3\\envs\\multicons\\lib\\site-packages (from scikit-learn-extra) (1.22.3)\n",
      "Requirement already satisfied: scikit-learn>=0.23.0 in c:\\users\\acer\\anaconda3\\envs\\multicons\\lib\\site-packages (from scikit-learn-extra) (1.0.2)\n",
      "Requirement already satisfied: scipy>=0.19.1 in c:\\users\\acer\\anaconda3\\envs\\multicons\\lib\\site-packages (from scikit-learn-extra) (1.8.1)\n",
      "Requirement already satisfied: joblib>=0.11 in c:\\users\\acer\\anaconda3\\envs\\multicons\\lib\\site-packages (from scikit-learn>=0.23.0->scikit-learn-extra) (1.1.0)\n",
      "Requirement already satisfied: threadpoolctl>=2.0.0 in c:\\users\\acer\\anaconda3\\envs\\multicons\\lib\\site-packages (from scikit-learn>=0.23.0->scikit-learn-extra) (3.1.0)\n",
      "Installing collected packages: scikit-learn-extra\n",
      "Successfully installed scikit-learn-extra-0.2.0\n",
      "Requirement already satisfied: graphviz in c:\\users\\acer\\anaconda3\\envs\\multicons\\lib\\site-packages (0.20)\n"
     ]
    }
   ],
   "source": [
    "#jupyter notebook --NotebookApp.max_buffer_size=4096\n",
    "\n",
    "!pip install fuzzy-c-means\n",
    "!pip install matplotlib\n",
    "!pip install sklearn\n",
    "!pip install scikit-learn-extra\n",
    "!pip install graphviz"
   ]
  },
  {
   "cell_type": "code",
   "execution_count": 2,
   "id": "78190380",
   "metadata": {},
   "outputs": [],
   "source": [
    "from os import path\n",
    "\n",
    "import numpy as np\n",
    "import pandas as pd\n",
    "from fcmeans import FCM\n",
    "from matplotlib import pyplot as plt\n",
    "from sklearn.cluster import (\n",
    "    DBSCAN,\n",
    "    AgglomerativeClustering,\n",
    "    Birch,\n",
    "    KMeans,\n",
    "    SpectralClustering,\n",
    ")\n",
    "from sklearn.mixture import GaussianMixture\n",
    "from sklearn_extra.cluster import KMedoids\n",
    "\n",
    "from multicons import MultiCons\n",
    "from multicons.utils import jaccard_similarity\n",
    "\n",
    "np.set_printoptions(threshold=100)"
   ]
  },
  {
   "cell_type": "code",
   "execution_count": 4,
   "id": "043d493b",
   "metadata": {},
   "outputs": [
    {
     "name": "stdout",
     "output_type": "stream",
     "text": [
      "<class 'pandas.core.frame.DataFrame'>\n",
      "RangeIndex: 32593 entries, 0 to 32592\n",
      "Data columns (total 12 columns):\n",
      " #   Column                Non-Null Count  Dtype \n",
      "---  ------                --------------  ----- \n",
      " 0   code_module           32593 non-null  object\n",
      " 1   code_presentation     32593 non-null  object\n",
      " 2   id_student            32593 non-null  int64 \n",
      " 3   gender                32593 non-null  object\n",
      " 4   region                32593 non-null  object\n",
      " 5   highest_education     32593 non-null  object\n",
      " 6   imd_band              31482 non-null  object\n",
      " 7   age_band              32593 non-null  object\n",
      " 8   num_of_prev_attempts  32593 non-null  int64 \n",
      " 9   studied_credits       32593 non-null  int64 \n",
      " 10  disability            32593 non-null  object\n",
      " 11  final_result          32593 non-null  object\n",
      "dtypes: int64(3), object(9)\n",
      "memory usage: 3.0+ MB\n"
     ]
    },
    {
     "data": {
      "text/html": [
       "<div>\n",
       "<style scoped>\n",
       "    .dataframe tbody tr th:only-of-type {\n",
       "        vertical-align: middle;\n",
       "    }\n",
       "\n",
       "    .dataframe tbody tr th {\n",
       "        vertical-align: top;\n",
       "    }\n",
       "\n",
       "    .dataframe thead th {\n",
       "        text-align: right;\n",
       "    }\n",
       "</style>\n",
       "<table border=\"1\" class=\"dataframe\">\n",
       "  <thead>\n",
       "    <tr style=\"text-align: right;\">\n",
       "      <th></th>\n",
       "      <th>code_module</th>\n",
       "      <th>code_presentation</th>\n",
       "      <th>id_student</th>\n",
       "      <th>gender</th>\n",
       "      <th>region</th>\n",
       "      <th>highest_education</th>\n",
       "      <th>imd_band</th>\n",
       "      <th>age_band</th>\n",
       "      <th>num_of_prev_attempts</th>\n",
       "      <th>studied_credits</th>\n",
       "      <th>disability</th>\n",
       "      <th>final_result</th>\n",
       "    </tr>\n",
       "  </thead>\n",
       "  <tbody>\n",
       "    <tr>\n",
       "      <th>0</th>\n",
       "      <td>AAA</td>\n",
       "      <td>2013J</td>\n",
       "      <td>11391</td>\n",
       "      <td>M</td>\n",
       "      <td>East Anglian Region</td>\n",
       "      <td>HE Qualification</td>\n",
       "      <td>90-100%</td>\n",
       "      <td>55&lt;=</td>\n",
       "      <td>0</td>\n",
       "      <td>240</td>\n",
       "      <td>N</td>\n",
       "      <td>Pass</td>\n",
       "    </tr>\n",
       "    <tr>\n",
       "      <th>1</th>\n",
       "      <td>AAA</td>\n",
       "      <td>2013J</td>\n",
       "      <td>28400</td>\n",
       "      <td>F</td>\n",
       "      <td>Scotland</td>\n",
       "      <td>HE Qualification</td>\n",
       "      <td>20-30%</td>\n",
       "      <td>35-55</td>\n",
       "      <td>0</td>\n",
       "      <td>60</td>\n",
       "      <td>N</td>\n",
       "      <td>Pass</td>\n",
       "    </tr>\n",
       "    <tr>\n",
       "      <th>2</th>\n",
       "      <td>AAA</td>\n",
       "      <td>2013J</td>\n",
       "      <td>30268</td>\n",
       "      <td>F</td>\n",
       "      <td>North Western Region</td>\n",
       "      <td>A Level or Equivalent</td>\n",
       "      <td>30-40%</td>\n",
       "      <td>35-55</td>\n",
       "      <td>0</td>\n",
       "      <td>60</td>\n",
       "      <td>Y</td>\n",
       "      <td>Withdrawn</td>\n",
       "    </tr>\n",
       "    <tr>\n",
       "      <th>3</th>\n",
       "      <td>AAA</td>\n",
       "      <td>2013J</td>\n",
       "      <td>31604</td>\n",
       "      <td>F</td>\n",
       "      <td>South East Region</td>\n",
       "      <td>A Level or Equivalent</td>\n",
       "      <td>50-60%</td>\n",
       "      <td>35-55</td>\n",
       "      <td>0</td>\n",
       "      <td>60</td>\n",
       "      <td>N</td>\n",
       "      <td>Pass</td>\n",
       "    </tr>\n",
       "    <tr>\n",
       "      <th>4</th>\n",
       "      <td>AAA</td>\n",
       "      <td>2013J</td>\n",
       "      <td>32885</td>\n",
       "      <td>F</td>\n",
       "      <td>West Midlands Region</td>\n",
       "      <td>Lower Than A Level</td>\n",
       "      <td>50-60%</td>\n",
       "      <td>0-35</td>\n",
       "      <td>0</td>\n",
       "      <td>60</td>\n",
       "      <td>N</td>\n",
       "      <td>Pass</td>\n",
       "    </tr>\n",
       "  </tbody>\n",
       "</table>\n",
       "</div>"
      ],
      "text/plain": [
       "  code_module code_presentation  id_student gender                region  \\\n",
       "0         AAA             2013J       11391      M   East Anglian Region   \n",
       "1         AAA             2013J       28400      F              Scotland   \n",
       "2         AAA             2013J       30268      F  North Western Region   \n",
       "3         AAA             2013J       31604      F     South East Region   \n",
       "4         AAA             2013J       32885      F  West Midlands Region   \n",
       "\n",
       "       highest_education imd_band age_band  num_of_prev_attempts  \\\n",
       "0       HE Qualification  90-100%     55<=                     0   \n",
       "1       HE Qualification   20-30%    35-55                     0   \n",
       "2  A Level or Equivalent   30-40%    35-55                     0   \n",
       "3  A Level or Equivalent   50-60%    35-55                     0   \n",
       "4     Lower Than A Level   50-60%     0-35                     0   \n",
       "\n",
       "   studied_credits disability final_result  \n",
       "0              240          N         Pass  \n",
       "1               60          N         Pass  \n",
       "2               60          Y    Withdrawn  \n",
       "3               60          N         Pass  \n",
       "4               60          N         Pass  "
      ]
     },
     "execution_count": 4,
     "metadata": {},
     "output_type": "execute_result"
    }
   ],
   "source": [
    "studentInfo_df = pd.read_csv('studentInfo.csv')\n",
    "studentInfo_df.info()\n",
    "studentInfo_df.head()"
   ]
  },
  {
   "cell_type": "code",
   "execution_count": 5,
   "id": "f745048f",
   "metadata": {},
   "outputs": [
    {
     "name": "stdout",
     "output_type": "stream",
     "text": [
      "<class 'pandas.core.frame.DataFrame'>\n",
      "Int64Index: 28857 entries, 0 to 32592\n",
      "Data columns (total 6 columns):\n",
      " #   Column             Non-Null Count  Dtype \n",
      "---  ------             --------------  ----- \n",
      " 0   id_student         28857 non-null  int64 \n",
      " 1   gender             28857 non-null  object\n",
      " 2   region             28857 non-null  object\n",
      " 3   highest_education  28857 non-null  object\n",
      " 4   imd_band           27877 non-null  object\n",
      " 5   age_band           28857 non-null  object\n",
      "dtypes: int64(1), object(5)\n",
      "memory usage: 1.5+ MB\n"
     ]
    },
    {
     "data": {
      "text/html": [
       "<div>\n",
       "<style scoped>\n",
       "    .dataframe tbody tr th:only-of-type {\n",
       "        vertical-align: middle;\n",
       "    }\n",
       "\n",
       "    .dataframe tbody tr th {\n",
       "        vertical-align: top;\n",
       "    }\n",
       "\n",
       "    .dataframe thead th {\n",
       "        text-align: right;\n",
       "    }\n",
       "</style>\n",
       "<table border=\"1\" class=\"dataframe\">\n",
       "  <thead>\n",
       "    <tr style=\"text-align: right;\">\n",
       "      <th></th>\n",
       "      <th>id_student</th>\n",
       "      <th>gender</th>\n",
       "      <th>region</th>\n",
       "      <th>highest_education</th>\n",
       "      <th>imd_band</th>\n",
       "      <th>age_band</th>\n",
       "    </tr>\n",
       "  </thead>\n",
       "  <tbody>\n",
       "    <tr>\n",
       "      <th>0</th>\n",
       "      <td>11391</td>\n",
       "      <td>M</td>\n",
       "      <td>East Anglian Region</td>\n",
       "      <td>HE Qualification</td>\n",
       "      <td>90-100%</td>\n",
       "      <td>55&lt;=</td>\n",
       "    </tr>\n",
       "    <tr>\n",
       "      <th>1</th>\n",
       "      <td>28400</td>\n",
       "      <td>F</td>\n",
       "      <td>Scotland</td>\n",
       "      <td>HE Qualification</td>\n",
       "      <td>20-30%</td>\n",
       "      <td>35-55</td>\n",
       "    </tr>\n",
       "    <tr>\n",
       "      <th>2</th>\n",
       "      <td>30268</td>\n",
       "      <td>F</td>\n",
       "      <td>North Western Region</td>\n",
       "      <td>A Level or Equivalent</td>\n",
       "      <td>30-40%</td>\n",
       "      <td>35-55</td>\n",
       "    </tr>\n",
       "    <tr>\n",
       "      <th>3</th>\n",
       "      <td>31604</td>\n",
       "      <td>F</td>\n",
       "      <td>South East Region</td>\n",
       "      <td>A Level or Equivalent</td>\n",
       "      <td>50-60%</td>\n",
       "      <td>35-55</td>\n",
       "    </tr>\n",
       "    <tr>\n",
       "      <th>4</th>\n",
       "      <td>32885</td>\n",
       "      <td>F</td>\n",
       "      <td>West Midlands Region</td>\n",
       "      <td>Lower Than A Level</td>\n",
       "      <td>50-60%</td>\n",
       "      <td>0-35</td>\n",
       "    </tr>\n",
       "  </tbody>\n",
       "</table>\n",
       "</div>"
      ],
      "text/plain": [
       "   id_student gender                region      highest_education imd_band  \\\n",
       "0       11391      M   East Anglian Region       HE Qualification  90-100%   \n",
       "1       28400      F              Scotland       HE Qualification   20-30%   \n",
       "2       30268      F  North Western Region  A Level or Equivalent   30-40%   \n",
       "3       31604      F     South East Region  A Level or Equivalent   50-60%   \n",
       "4       32885      F  West Midlands Region     Lower Than A Level   50-60%   \n",
       "\n",
       "  age_band  \n",
       "0     55<=  \n",
       "1    35-55  \n",
       "2    35-55  \n",
       "3    35-55  \n",
       "4     0-35  "
      ]
     },
     "execution_count": 5,
     "metadata": {},
     "output_type": "execute_result"
    }
   ],
   "source": [
    "# Remove duplicate values\n",
    "studentProfile_df = studentInfo_df[['id_student', 'gender', 'region', 'highest_education', 'imd_band', 'age_band']].drop_duplicates()\n",
    "studentProfile_df.info()\n",
    "studentProfile_df.head()"
   ]
  },
  {
   "cell_type": "code",
   "execution_count": 5,
   "id": "5f12d880",
   "metadata": {},
   "outputs": [
    {
     "data": {
      "text/html": [
       "<div>\n",
       "<style scoped>\n",
       "    .dataframe tbody tr th:only-of-type {\n",
       "        vertical-align: middle;\n",
       "    }\n",
       "\n",
       "    .dataframe tbody tr th {\n",
       "        vertical-align: top;\n",
       "    }\n",
       "\n",
       "    .dataframe thead th {\n",
       "        text-align: right;\n",
       "    }\n",
       "</style>\n",
       "<table border=\"1\" class=\"dataframe\">\n",
       "  <thead>\n",
       "    <tr style=\"text-align: right;\">\n",
       "      <th></th>\n",
       "      <th>id_student</th>\n",
       "      <th>region</th>\n",
       "      <th>highest_education</th>\n",
       "      <th>imd_band</th>\n",
       "      <th>age_band</th>\n",
       "      <th>gender_F</th>\n",
       "      <th>gender_M</th>\n",
       "    </tr>\n",
       "  </thead>\n",
       "  <tbody>\n",
       "    <tr>\n",
       "      <th>0</th>\n",
       "      <td>11391</td>\n",
       "      <td>East Anglian Region</td>\n",
       "      <td>HE Qualification</td>\n",
       "      <td>90-100%</td>\n",
       "      <td>55&lt;=</td>\n",
       "      <td>0</td>\n",
       "      <td>1</td>\n",
       "    </tr>\n",
       "    <tr>\n",
       "      <th>1</th>\n",
       "      <td>28400</td>\n",
       "      <td>Scotland</td>\n",
       "      <td>HE Qualification</td>\n",
       "      <td>20-30%</td>\n",
       "      <td>35-55</td>\n",
       "      <td>1</td>\n",
       "      <td>0</td>\n",
       "    </tr>\n",
       "    <tr>\n",
       "      <th>2</th>\n",
       "      <td>30268</td>\n",
       "      <td>North Western Region</td>\n",
       "      <td>A Level or Equivalent</td>\n",
       "      <td>30-40%</td>\n",
       "      <td>35-55</td>\n",
       "      <td>1</td>\n",
       "      <td>0</td>\n",
       "    </tr>\n",
       "    <tr>\n",
       "      <th>3</th>\n",
       "      <td>31604</td>\n",
       "      <td>South East Region</td>\n",
       "      <td>A Level or Equivalent</td>\n",
       "      <td>50-60%</td>\n",
       "      <td>35-55</td>\n",
       "      <td>1</td>\n",
       "      <td>0</td>\n",
       "    </tr>\n",
       "    <tr>\n",
       "      <th>4</th>\n",
       "      <td>32885</td>\n",
       "      <td>West Midlands Region</td>\n",
       "      <td>Lower Than A Level</td>\n",
       "      <td>50-60%</td>\n",
       "      <td>0-35</td>\n",
       "      <td>1</td>\n",
       "      <td>0</td>\n",
       "    </tr>\n",
       "  </tbody>\n",
       "</table>\n",
       "</div>"
      ],
      "text/plain": [
       "   id_student                region      highest_education imd_band age_band  \\\n",
       "0       11391   East Anglian Region       HE Qualification  90-100%     55<=   \n",
       "1       28400              Scotland       HE Qualification   20-30%    35-55   \n",
       "2       30268  North Western Region  A Level or Equivalent   30-40%    35-55   \n",
       "3       31604     South East Region  A Level or Equivalent   50-60%    35-55   \n",
       "4       32885  West Midlands Region     Lower Than A Level   50-60%     0-35   \n",
       "\n",
       "   gender_F  gender_M  \n",
       "0         0         1  \n",
       "1         1         0  \n",
       "2         1         0  \n",
       "3         1         0  \n",
       "4         1         0  "
      ]
     },
     "execution_count": 5,
     "metadata": {},
     "output_type": "execute_result"
    }
   ],
   "source": [
    "enc_studentProfile_df = pd.get_dummies(studentProfile_df, columns=[\"gender\"])\n",
    "enc_studentProfile_df.head()"
   ]
  },
  {
   "cell_type": "code",
   "execution_count": 6,
   "id": "410e3c49",
   "metadata": {},
   "outputs": [
    {
     "data": {
      "text/html": [
       "<div>\n",
       "<style scoped>\n",
       "    .dataframe tbody tr th:only-of-type {\n",
       "        vertical-align: middle;\n",
       "    }\n",
       "\n",
       "    .dataframe tbody tr th {\n",
       "        vertical-align: top;\n",
       "    }\n",
       "\n",
       "    .dataframe thead th {\n",
       "        text-align: right;\n",
       "    }\n",
       "</style>\n",
       "<table border=\"1\" class=\"dataframe\">\n",
       "  <thead>\n",
       "    <tr style=\"text-align: right;\">\n",
       "      <th></th>\n",
       "      <th>region</th>\n",
       "      <th>highest_education</th>\n",
       "      <th>imd_band</th>\n",
       "      <th>age_band</th>\n",
       "      <th>gender_F</th>\n",
       "      <th>gender_M</th>\n",
       "    </tr>\n",
       "  </thead>\n",
       "  <tbody>\n",
       "    <tr>\n",
       "      <th>0</th>\n",
       "      <td>0</td>\n",
       "      <td>1</td>\n",
       "      <td>9</td>\n",
       "      <td>2</td>\n",
       "      <td>0</td>\n",
       "      <td>1</td>\n",
       "    </tr>\n",
       "    <tr>\n",
       "      <th>1</th>\n",
       "      <td>6</td>\n",
       "      <td>1</td>\n",
       "      <td>2</td>\n",
       "      <td>1</td>\n",
       "      <td>1</td>\n",
       "      <td>0</td>\n",
       "    </tr>\n",
       "    <tr>\n",
       "      <th>2</th>\n",
       "      <td>5</td>\n",
       "      <td>0</td>\n",
       "      <td>3</td>\n",
       "      <td>1</td>\n",
       "      <td>1</td>\n",
       "      <td>0</td>\n",
       "    </tr>\n",
       "    <tr>\n",
       "      <th>3</th>\n",
       "      <td>7</td>\n",
       "      <td>0</td>\n",
       "      <td>5</td>\n",
       "      <td>1</td>\n",
       "      <td>1</td>\n",
       "      <td>0</td>\n",
       "    </tr>\n",
       "    <tr>\n",
       "      <th>4</th>\n",
       "      <td>11</td>\n",
       "      <td>2</td>\n",
       "      <td>5</td>\n",
       "      <td>0</td>\n",
       "      <td>1</td>\n",
       "      <td>0</td>\n",
       "    </tr>\n",
       "  </tbody>\n",
       "</table>\n",
       "</div>"
      ],
      "text/plain": [
       "   region  highest_education  imd_band  age_band  gender_F  gender_M\n",
       "0       0                  1         9         2         0         1\n",
       "1       6                  1         2         1         1         0\n",
       "2       5                  0         3         1         1         0\n",
       "3       7                  0         5         1         1         0\n",
       "4      11                  2         5         0         1         0"
      ]
     },
     "execution_count": 6,
     "metadata": {},
     "output_type": "execute_result"
    }
   ],
   "source": [
    "from sklearn import preprocessing\n",
    "\n",
    "label_encoder = preprocessing.LabelEncoder()\n",
    "\n",
    "enc_studentProfile_df['imd_band'] = label_encoder.fit_transform(enc_studentProfile_df['imd_band']) \n",
    "enc_studentProfile_df['region'] = label_encoder.fit_transform(enc_studentProfile_df['region']) \n",
    "enc_studentProfile_df['highest_education'] = label_encoder.fit_transform(enc_studentProfile_df['highest_education']) \n",
    "enc_studentProfile_df['age_band'] = label_encoder.fit_transform(enc_studentProfile_df['age_band']) \n",
    "\n",
    "enc_studentProfile_df.drop(['id_student'], axis = 1, inplace = True)\n",
    "\n",
    "enc_studentProfile_df.head()"
   ]
  },
  {
   "cell_type": "code",
   "execution_count": 7,
   "id": "ed80cc3b",
   "metadata": {},
   "outputs": [
    {
     "data": {
      "text/plain": [
       "(28857, 2)"
      ]
     },
     "execution_count": 7,
     "metadata": {},
     "output_type": "execute_result"
    }
   ],
   "source": [
    "enc_studentProfile_df.drop(['imd_band', 'age_band', 'gender_F', 'gender_M'], axis = 1, inplace=True)\n",
    "enc_studentProfile_df.shape"
   ]
  },
  {
   "cell_type": "code",
   "execution_count": 8,
   "id": "07648d38",
   "metadata": {},
   "outputs": [
    {
     "data": {
      "text/plain": [
       "(2886, 2)"
      ]
     },
     "execution_count": 8,
     "metadata": {},
     "output_type": "execute_result"
    }
   ],
   "source": [
    "enc_studentProfile_df = enc_studentProfile_df.sample(frac=0.10)\n",
    "enc_studentProfile_df.shape"
   ]
  },
  {
   "cell_type": "code",
   "execution_count": 9,
   "id": "d77991c9",
   "metadata": {},
   "outputs": [
    {
     "data": {
      "text/plain": [
       "'\\n# DBSCAN O(NlogN)\\nbase_clusterings.append(DBSCAN(eps=0.2).fit_predict(enc_studentProfile_df))\\n'"
      ]
     },
     "execution_count": 9,
     "metadata": {},
     "output_type": "execute_result"
    }
   ],
   "source": [
    "# Our collection of base clusterings\n",
    "base_clusterings = []\n",
    "\n",
    "# K-means O(N.K.L) N: #samples; K: #clusters; L: #iterations\n",
    "base_clusterings.append(KMeans(n_clusters=3).fit_predict(enc_studentProfile_df))\n",
    "\n",
    "'''\n",
    "# Average linkage O(N^3)\n",
    "base_clusterings.append(\n",
    "    AgglomerativeClustering(n_clusters=3).fit_predict(enc_studentProfile_df)\n",
    ")\n",
    "'''\n",
    "\n",
    "# Gaussian model O(N.K.D^3) D: #data dimensions\n",
    "base_clusterings.append(\n",
    "    GaussianMixture(n_components=3, random_state=5).fit_predict(enc_studentProfile_df)\n",
    ")\n",
    "\n",
    "# C-means O(N.K)\n",
    "fcm = FCM(n_clusters=3, max_iter=5, m=5)\n",
    "fcm.fit(enc_studentProfile_df.values)\n",
    "base_clusterings.append(fcm.predict(enc_studentProfile_df.values))\n",
    "\n",
    "'''\n",
    "# PAM O(N^2)\n",
    "base_clusterings.append(KMedoids(n_clusters=3).fit_predict(enc_studentProfile_df))\n",
    "'''\n",
    "\n",
    "# BIRCH O(N)\n",
    "birch = Birch(n_clusters=3, threshold=0.5)\n",
    "base_clusterings.append(birch.fit_predict(enc_studentProfile_df))\n",
    "\n",
    "'''\n",
    "# Spectral O(N^3)\n",
    "base_clusterings.append(\n",
    "    SpectralClustering(n_clusters=3).fit_predict(enc_studentProfile_df)\n",
    ")\n",
    "'''\n",
    "\n",
    "'''\n",
    "# DBSCAN O(NlogN)\n",
    "base_clusterings.append(DBSCAN(eps=0.2).fit_predict(enc_studentProfile_df))\n",
    "'''"
   ]
  },
  {
   "cell_type": "code",
   "execution_count": 10,
   "id": "5a6cd41e",
   "metadata": {},
   "outputs": [
    {
     "data": {
      "text/plain": [
       "array([[1, 1, 0, ..., 1, 2, 0],\n",
       "       [1, 1, 2, ..., 1, 0, 2],\n",
       "       [2, 2, 0, ..., 2, 1, 0],\n",
       "       [0, 0, 1, ..., 0, 2, 1]])"
      ]
     },
     "execution_count": 10,
     "metadata": {},
     "output_type": "execute_result"
    }
   ],
   "source": [
    "np.array(base_clusterings)"
   ]
  },
  {
   "cell_type": "code",
   "execution_count": 11,
   "id": "0bed3c6e",
   "metadata": {},
   "outputs": [
    {
     "data": {
      "text/plain": [
       "MultiCons(consensus_function=<function consensus_function_10 at 0x7fba155d11f0>,\n",
       "          similarity_measure=<function jaccard_similarity at 0x7fba1560bdc0>)"
      ]
     },
     "execution_count": 11,
     "metadata": {},
     "output_type": "execute_result"
    }
   ],
   "source": [
    "# MultiCons implementation aims to follow scikit-learn conventions.\n",
    "consensus = MultiCons().fit(base_clusterings)\n",
    "consensus"
   ]
  },
  {
   "cell_type": "code",
   "execution_count": 12,
   "id": "71f1b5ec",
   "metadata": {},
   "outputs": [
    {
     "data": {
      "text/plain": [
       "array([[0, 0, 0, ..., 0, 0, 0],\n",
       "       [0, 0, 1, ..., 0, 1, 1],\n",
       "       [8, 8, 7, ..., 8, 6, 7]])"
      ]
     },
     "execution_count": 12,
     "metadata": {},
     "output_type": "execute_result"
    }
   ],
   "source": [
    "# The `consensus_vectors` attribute is a python list containing the\n",
    "# consensus candidates.\n",
    "# We transform it to a numpy array to better visualize it here.\n",
    "np.array(consensus.consensus_vectors)"
   ]
  },
  {
   "cell_type": "code",
   "execution_count": 13,
   "id": "8d22a7d0",
   "metadata": {},
   "outputs": [
    {
     "data": {
      "text/plain": [
       "[2, 3, 4]"
      ]
     },
     "execution_count": 13,
     "metadata": {},
     "output_type": "execute_result"
    }
   ],
   "source": [
    "# The `decision_thresholds` attribute contains a list of decision thresholds\n",
    "# for each consensus vector.\n",
    "consensus.decision_thresholds"
   ]
  },
  {
   "cell_type": "code",
   "execution_count": 14,
   "id": "67b728b3",
   "metadata": {},
   "outputs": [
    {
     "data": {
      "text/plain": [
       "1"
      ]
     },
     "execution_count": 14,
     "metadata": {},
     "output_type": "execute_result"
    }
   ],
   "source": [
    "# The `recommended` attribute contains the index of the recommended consensus\n",
    "# vector\n",
    "consensus.recommended"
   ]
  },
  {
   "cell_type": "code",
   "execution_count": 15,
   "id": "2c42674b",
   "metadata": {},
   "outputs": [
    {
     "data": {
      "text/plain": [
       "array([0, 0, 1, ..., 0, 1, 1])"
      ]
     },
     "execution_count": 15,
     "metadata": {},
     "output_type": "execute_result"
    }
   ],
   "source": [
    "# The `labels_` attribute contains the recommended consensus vector\n",
    "consensus.labels_"
   ]
  },
  {
   "cell_type": "code",
   "execution_count": 16,
   "id": "df333931",
   "metadata": {},
   "outputs": [
    {
     "data": {
      "text/plain": [
       "[2, 1, 1]"
      ]
     },
     "execution_count": 16,
     "metadata": {},
     "output_type": "execute_result"
    }
   ],
   "source": [
    "# The `stability` attribute contains a list of stability values\n",
    "# for each consensus vector.\n",
    "consensus.stability"
   ]
  },
  {
   "cell_type": "code",
   "execution_count": 17,
   "id": "6fc8c2e6",
   "metadata": {},
   "outputs": [
    {
     "data": {
      "text/plain": [
       "0.75"
      ]
     },
     "execution_count": 17,
     "metadata": {},
     "output_type": "execute_result"
    }
   ],
   "source": [
    "# The `tree_quality` member contains a measure of the tree quality.\n",
    "# The measure ranges between 0 and 1. Higher is better.\n",
    "consensus.tree_quality"
   ]
  },
  {
   "cell_type": "code",
   "execution_count": 18,
   "id": "22ad0089",
   "metadata": {},
   "outputs": [
    {
     "data": {
      "text/plain": [
       "array([0.35595945, 0.54666966, 0.52683423])"
      ]
     },
     "execution_count": 18,
     "metadata": {},
     "output_type": "execute_result"
    }
   ],
   "source": [
    "# The `ensemble_similarity` contains a list of ensemble similarity measures\n",
    "# for each consensus vector.\n",
    "# They are between 0 and 1. Higher is better.\n",
    "consensus.ensemble_similarity"
   ]
  },
  {
   "cell_type": "code",
   "execution_count": 23,
   "id": "37fa49e2",
   "metadata": {},
   "outputs": [
    {
     "data": {
      "image/svg+xml": [
       "<?xml version=\"1.0\" encoding=\"UTF-8\" standalone=\"no\"?>\n",
       "<!DOCTYPE svg PUBLIC \"-//W3C//DTD SVG 1.1//EN\"\n",
       " \"http://www.w3.org/Graphics/SVG/1.1/DTD/svg11.dtd\">\n",
       "<!-- Generated by graphviz version 3.0.0 (20220226.1711)\n",
       " -->\n",
       "<!-- Pages: 1 -->\n",
       "<svg width=\"1082pt\" height=\"281pt\"\n",
       " viewBox=\"0.00 0.00 1082.00 281.00\" xmlns=\"http://www.w3.org/2000/svg\" xmlns:xlink=\"http://www.w3.org/1999/xlink\">\n",
       "<g id=\"graph0\" class=\"graph\" transform=\"scale(1 1) rotate(0) translate(4 277)\">\n",
       "<polygon fill=\"white\" stroke=\"transparent\" points=\"-4,4 -4,-277 1078,-277 1078,4 -4,4\"/>\n",
       "<text text-anchor=\"middle\" x=\"537\" y=\"-257.8\" font-family=\"Times,serif\" font-size=\"14.00\">ConsTree</text>\n",
       "<text text-anchor=\"middle\" x=\"537\" y=\"-242.8\" font-family=\"Times,serif\" font-size=\"14.00\">Tree Quality = 0.75</text>\n",
       "<g id=\"clust1\" class=\"cluster\">\n",
       "<title>cluster</title>\n",
       "<polygon fill=\"none\" stroke=\"black\" points=\"874,-8 874,-227 1066,-227 1066,-8 874,-8\"/>\n",
       "<text text-anchor=\"middle\" x=\"970\" y=\"-211.8\" font-family=\"Times,serif\" font-size=\"14.00\">Legend</text>\n",
       "</g>\n",
       "<!-- 00 -->\n",
       "<g id=\"node1\" class=\"node\">\n",
       "<title>00</title>\n",
       "<ellipse fill=\"#b9d3ee\" stroke=\"black\" cx=\"324\" cy=\"-178\" rx=\"324\" ry=\"18\"/>\n",
       "<text text-anchor=\"middle\" x=\"324\" y=\"-174.3\" font-family=\"Times,serif\" font-size=\"14.00\">2886</text>\n",
       "</g>\n",
       "<!-- 10 -->\n",
       "<g id=\"node3\" class=\"node\">\n",
       "<title>10</title>\n",
       "<polygon fill=\"darkseagreen\" stroke=\"black\" points=\"243,-124 99,-124 99,-88 243,-88 243,-124\"/>\n",
       "<text text-anchor=\"middle\" x=\"171\" y=\"-102.3\" font-family=\"Times,serif\" font-size=\"14.00\">898</text>\n",
       "</g>\n",
       "<!-- 00&#45;&gt;10 -->\n",
       "<g id=\"edge1\" class=\"edge\">\n",
       "<title>00&#45;&gt;10</title>\n",
       "<path fill=\"none\" stroke=\"black\" d=\"M286.96,-160.05C266.07,-150.5 239.77,-138.46 217.5,-128.27\"/>\n",
       "<polygon fill=\"black\" stroke=\"black\" points=\"218.78,-125.01 208.23,-124.03 215.86,-131.37 218.78,-125.01\"/>\n",
       "</g>\n",
       "<!-- 11 -->\n",
       "<g id=\"node4\" class=\"node\">\n",
       "<title>11</title>\n",
       "<polygon fill=\"darkseagreen\" stroke=\"black\" points=\"696,-124 264,-124 264,-88 696,-88 696,-124\"/>\n",
       "<text text-anchor=\"middle\" x=\"480\" y=\"-102.3\" font-family=\"Times,serif\" font-size=\"14.00\">1988</text>\n",
       "</g>\n",
       "<!-- 00&#45;&gt;11 -->\n",
       "<g id=\"edge2\" class=\"edge\">\n",
       "<title>00&#45;&gt;11</title>\n",
       "<path fill=\"none\" stroke=\"black\" d=\"M361.76,-160.05C383.16,-150.45 410.12,-138.35 432.9,-128.14\"/>\n",
       "<polygon fill=\"black\" stroke=\"black\" points=\"434.35,-131.32 442.04,-124.03 431.49,-124.93 434.35,-131.32\"/>\n",
       "</g>\n",
       "<!-- legend_0 -->\n",
       "<g id=\"node2\" class=\"node\">\n",
       "<title>legend_0</title>\n",
       "<polygon fill=\"#b9d3ee\" stroke=\"black\" points=\"1057.5,-196 882.5,-196 882.5,-160 1057.5,-160 1057.5,-196\"/>\n",
       "<text text-anchor=\"middle\" x=\"970\" y=\"-174.3\" font-family=\"Times,serif\" font-size=\"14.00\">DT=2 ST=2 Similarity=0.36</text>\n",
       "</g>\n",
       "<!-- legend_1 -->\n",
       "<g id=\"node5\" class=\"node\">\n",
       "<title>legend_1</title>\n",
       "<polygon fill=\"darkseagreen\" stroke=\"black\" points=\"1057.5,-124 882.5,-124 882.5,-88 1057.5,-88 1057.5,-124\"/>\n",
       "<text text-anchor=\"middle\" x=\"970\" y=\"-102.3\" font-family=\"Times,serif\" font-size=\"14.00\">DT=3 ST=1 Similarity=0.55</text>\n",
       "</g>\n",
       "<!-- legend_0&#45;&gt;legend_1 -->\n",
       "<g id=\"edge3\" class=\"edge\">\n",
       "<title>legend_0&#45;&gt;legend_1</title>\n",
       "<path fill=\"none\" stroke=\"black\" d=\"M970,-159.7C970,-151.98 970,-142.71 970,-134.11\"/>\n",
       "<polygon fill=\"black\" stroke=\"black\" points=\"973.5,-134.1 970,-124.1 966.5,-134.1 973.5,-134.1\"/>\n",
       "</g>\n",
       "<!-- 28 -->\n",
       "<g id=\"node14\" class=\"node\">\n",
       "<title>28</title>\n",
       "<ellipse fill=\"#b9d3ee\" stroke=\"black\" cx=\"168\" cy=\"-34\" rx=\"72\" ry=\"18\"/>\n",
       "<text text-anchor=\"middle\" x=\"168\" y=\"-30.3\" font-family=\"Times,serif\" font-size=\"14.00\">898</text>\n",
       "</g>\n",
       "<!-- 10&#45;&gt;28 -->\n",
       "<g id=\"edge12\" class=\"edge\">\n",
       "<title>10&#45;&gt;28</title>\n",
       "<path fill=\"none\" stroke=\"black\" d=\"M170.26,-87.7C169.93,-79.98 169.53,-70.71 169.16,-62.11\"/>\n",
       "<polygon fill=\"black\" stroke=\"black\" points=\"172.66,-61.95 168.73,-52.1 165.66,-62.25 172.66,-61.95\"/>\n",
       "</g>\n",
       "<!-- 20 -->\n",
       "<g id=\"node6\" class=\"node\">\n",
       "<title>20</title>\n",
       "<ellipse fill=\"#b9d3ee\" stroke=\"black\" cx=\"282\" cy=\"-34\" rx=\"24.1\" ry=\"18\"/>\n",
       "<text text-anchor=\"middle\" x=\"282\" y=\"-30.3\" font-family=\"Times,serif\" font-size=\"14.00\">115</text>\n",
       "</g>\n",
       "<!-- 11&#45;&gt;20 -->\n",
       "<g id=\"edge4\" class=\"edge\">\n",
       "<title>11&#45;&gt;20</title>\n",
       "<path fill=\"none\" stroke=\"black\" d=\"M418.79,-87.97C387.33,-78.55 348.63,-65.95 315,-52 313.4,-51.34 311.78,-50.63 310.15,-49.89\"/>\n",
       "<polygon fill=\"black\" stroke=\"black\" points=\"311.47,-46.64 300.94,-45.43 308.42,-52.94 311.47,-46.64\"/>\n",
       "</g>\n",
       "<!-- 21 -->\n",
       "<g id=\"node7\" class=\"node\">\n",
       "<title>21</title>\n",
       "<ellipse fill=\"#b9d3ee\" stroke=\"black\" cx=\"348\" cy=\"-34\" rx=\"24.1\" ry=\"18\"/>\n",
       "<text text-anchor=\"middle\" x=\"348\" y=\"-30.3\" font-family=\"Times,serif\" font-size=\"14.00\">117</text>\n",
       "</g>\n",
       "<!-- 11&#45;&gt;21 -->\n",
       "<g id=\"edge5\" class=\"edge\">\n",
       "<title>11&#45;&gt;21</title>\n",
       "<path fill=\"none\" stroke=\"black\" d=\"M447.71,-87.88C425.87,-76.29 397.29,-61.14 376.33,-50.03\"/>\n",
       "<polygon fill=\"black\" stroke=\"black\" points=\"377.77,-46.82 367.29,-45.23 374.49,-53.01 377.77,-46.82\"/>\n",
       "</g>\n",
       "<!-- 22 -->\n",
       "<g id=\"node8\" class=\"node\">\n",
       "<title>22</title>\n",
       "<ellipse fill=\"#b9d3ee\" stroke=\"black\" cx=\"414\" cy=\"-34\" rx=\"24.1\" ry=\"18\"/>\n",
       "<text text-anchor=\"middle\" x=\"414\" y=\"-30.3\" font-family=\"Times,serif\" font-size=\"14.00\">155</text>\n",
       "</g>\n",
       "<!-- 11&#45;&gt;22 -->\n",
       "<g id=\"edge6\" class=\"edge\">\n",
       "<title>11&#45;&gt;22</title>\n",
       "<path fill=\"none\" stroke=\"black\" d=\"M463.69,-87.7C454.89,-78.37 443.95,-66.76 434.57,-56.82\"/>\n",
       "<polygon fill=\"black\" stroke=\"black\" points=\"436.87,-54.15 427.46,-49.28 431.78,-58.96 436.87,-54.15\"/>\n",
       "</g>\n",
       "<!-- 23 -->\n",
       "<g id=\"node9\" class=\"node\">\n",
       "<title>23</title>\n",
       "<ellipse fill=\"#b9d3ee\" stroke=\"black\" cx=\"480\" cy=\"-34\" rx=\"24.1\" ry=\"18\"/>\n",
       "<text text-anchor=\"middle\" x=\"480\" y=\"-30.3\" font-family=\"Times,serif\" font-size=\"14.00\">159</text>\n",
       "</g>\n",
       "<!-- 11&#45;&gt;23 -->\n",
       "<g id=\"edge7\" class=\"edge\">\n",
       "<title>11&#45;&gt;23</title>\n",
       "<path fill=\"none\" stroke=\"black\" d=\"M480,-87.7C480,-79.98 480,-70.71 480,-62.11\"/>\n",
       "<polygon fill=\"black\" stroke=\"black\" points=\"483.5,-62.1 480,-52.1 476.5,-62.1 483.5,-62.1\"/>\n",
       "</g>\n",
       "<!-- 24 -->\n",
       "<g id=\"node10\" class=\"node\">\n",
       "<title>24</title>\n",
       "<ellipse fill=\"#b9d3ee\" stroke=\"black\" cx=\"546\" cy=\"-34\" rx=\"24.1\" ry=\"18\"/>\n",
       "<text text-anchor=\"middle\" x=\"546\" y=\"-30.3\" font-family=\"Times,serif\" font-size=\"14.00\">205</text>\n",
       "</g>\n",
       "<!-- 11&#45;&gt;24 -->\n",
       "<g id=\"edge8\" class=\"edge\">\n",
       "<title>11&#45;&gt;24</title>\n",
       "<path fill=\"none\" stroke=\"black\" d=\"M496.31,-87.7C505.11,-78.37 516.05,-66.76 525.43,-56.82\"/>\n",
       "<polygon fill=\"black\" stroke=\"black\" points=\"528.22,-58.96 532.54,-49.28 523.13,-54.15 528.22,-58.96\"/>\n",
       "</g>\n",
       "<!-- 25 -->\n",
       "<g id=\"node11\" class=\"node\">\n",
       "<title>25</title>\n",
       "<ellipse fill=\"#b9d3ee\" stroke=\"black\" cx=\"612\" cy=\"-34\" rx=\"24.1\" ry=\"18\"/>\n",
       "<text text-anchor=\"middle\" x=\"612\" y=\"-30.3\" font-family=\"Times,serif\" font-size=\"14.00\">231</text>\n",
       "</g>\n",
       "<!-- 11&#45;&gt;25 -->\n",
       "<g id=\"edge9\" class=\"edge\">\n",
       "<title>11&#45;&gt;25</title>\n",
       "<path fill=\"none\" stroke=\"black\" d=\"M512.29,-87.88C534.13,-76.29 562.71,-61.14 583.67,-50.03\"/>\n",
       "<polygon fill=\"black\" stroke=\"black\" points=\"585.51,-53.01 592.71,-45.23 582.23,-46.82 585.51,-53.01\"/>\n",
       "</g>\n",
       "<!-- 26 -->\n",
       "<g id=\"node12\" class=\"node\">\n",
       "<title>26</title>\n",
       "<ellipse fill=\"#b9d3ee\" stroke=\"black\" cx=\"678\" cy=\"-34\" rx=\"24.1\" ry=\"18\"/>\n",
       "<text text-anchor=\"middle\" x=\"678\" y=\"-30.3\" font-family=\"Times,serif\" font-size=\"14.00\">316</text>\n",
       "</g>\n",
       "<!-- 11&#45;&gt;26 -->\n",
       "<g id=\"edge10\" class=\"edge\">\n",
       "<title>11&#45;&gt;26</title>\n",
       "<path fill=\"none\" stroke=\"black\" d=\"M541.21,-87.97C572.67,-78.55 611.37,-65.95 645,-52 646.6,-51.34 648.22,-50.63 649.85,-49.89\"/>\n",
       "<polygon fill=\"black\" stroke=\"black\" points=\"651.58,-52.94 659.06,-45.43 648.53,-46.64 651.58,-52.94\"/>\n",
       "</g>\n",
       "<!-- 27 -->\n",
       "<g id=\"node13\" class=\"node\">\n",
       "<title>27</title>\n",
       "<ellipse fill=\"#b9d3ee\" stroke=\"black\" cx=\"792\" cy=\"-34\" rx=\"72\" ry=\"18\"/>\n",
       "<text text-anchor=\"middle\" x=\"792\" y=\"-30.3\" font-family=\"Times,serif\" font-size=\"14.00\">690</text>\n",
       "</g>\n",
       "<!-- 11&#45;&gt;27 -->\n",
       "<g id=\"edge11\" class=\"edge\">\n",
       "<title>11&#45;&gt;27</title>\n",
       "<path fill=\"none\" stroke=\"black\" d=\"M555.92,-87.97C609.42,-75.96 680.15,-60.1 730.2,-48.87\"/>\n",
       "<polygon fill=\"black\" stroke=\"black\" points=\"731.24,-52.22 740.24,-46.61 729.71,-45.39 731.24,-52.22\"/>\n",
       "</g>\n",
       "<!-- legend_2 -->\n",
       "<g id=\"node15\" class=\"node\">\n",
       "<title>legend_2</title>\n",
       "<polygon fill=\"#b9d3ee\" stroke=\"black\" points=\"1057.5,-52 882.5,-52 882.5,-16 1057.5,-16 1057.5,-52\"/>\n",
       "<text text-anchor=\"middle\" x=\"970\" y=\"-30.3\" font-family=\"Times,serif\" font-size=\"14.00\">DT=4 ST=1 Similarity=0.53</text>\n",
       "</g>\n",
       "<!-- legend_1&#45;&gt;legend_2 -->\n",
       "<g id=\"edge13\" class=\"edge\">\n",
       "<title>legend_1&#45;&gt;legend_2</title>\n",
       "<path fill=\"none\" stroke=\"black\" d=\"M970,-87.7C970,-79.98 970,-70.71 970,-62.11\"/>\n",
       "<polygon fill=\"black\" stroke=\"black\" points=\"973.5,-62.1 970,-52.1 966.5,-62.1 973.5,-62.1\"/>\n",
       "</g>\n",
       "</g>\n",
       "</svg>\n"
      ],
      "text/plain": [
       "<graphviz.graphs.Digraph at 0x7fba155c31c0>"
      ]
     },
     "execution_count": 23,
     "metadata": {},
     "output_type": "execute_result"
    }
   ],
   "source": [
    "# %% [markdown]\n",
    "# **Finally, let's visualize the consenus candidates using the ConsTree method:**\n",
    "\n",
    "# %%\n",
    "cons_tree = consensus.cons_tree()\n",
    "cons_tree"
   ]
  },
  {
   "cell_type": "code",
   "execution_count": 25,
   "id": "f3779619",
   "metadata": {},
   "outputs": [
    {
     "data": {
      "text/plain": [
       "'StudentInfoConsTree.svg'"
      ]
     },
     "execution_count": 25,
     "metadata": {},
     "output_type": "execute_result"
    }
   ],
   "source": [
    "# %%\n",
    "# Save the ConsTree graph to a file\n",
    "cons_tree.render(outfile=f\"./StudentInfoConsTree.svg\", cleanup=True)"
   ]
  }
 ],
 "metadata": {
  "kernelspec": {
   "display_name": "Python 3 (ipykernel)",
   "language": "python",
   "name": "python3"
  },
  "language_info": {
   "codemirror_mode": {
    "name": "ipython",
    "version": 3
   },
   "file_extension": ".py",
   "mimetype": "text/x-python",
   "name": "python",
   "nbconvert_exporter": "python",
   "pygments_lexer": "ipython3",
   "version": "3.9.12"
  }
 },
 "nbformat": 4,
 "nbformat_minor": 5
}
