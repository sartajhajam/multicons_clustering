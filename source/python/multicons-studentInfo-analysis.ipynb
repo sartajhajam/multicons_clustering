{
 "cells": [
  {
   "cell_type": "markdown",
   "id": "de29c4e5",
   "metadata": {},
   "source": [
    "### Open University Learning Analytics Dataset Analysis  Using MultiCons"
   ]
  },
  {
   "cell_type": "code",
   "execution_count": 1,
   "id": "ad252e34",
   "metadata": {},
   "outputs": [
    {
     "name": "stdout",
     "output_type": "stream",
     "text": [
      "Requirement already satisfied: fuzzy-c-means in c:\\users\\acer\\anaconda3\\envs\\multicons\\lib\\site-packages (1.6.4)\n",
      "Requirement already satisfied: numpy<2.0.0,>=1.21.1 in c:\\users\\acer\\anaconda3\\envs\\multicons\\lib\\site-packages (from fuzzy-c-means) (1.22.3)\n",
      "Requirement already satisfied: typer<0.5.0,>=0.4.0 in c:\\users\\acer\\anaconda3\\envs\\multicons\\lib\\site-packages (from fuzzy-c-means) (0.4.1)\n",
      "Requirement already satisfied: pydantic<2.0.0,>=1.9.0 in c:\\users\\acer\\anaconda3\\envs\\multicons\\lib\\site-packages (from fuzzy-c-means) (1.9.1)\n",
      "Requirement already satisfied: tabulate<0.9.0,>=0.8.9 in c:\\users\\acer\\anaconda3\\envs\\multicons\\lib\\site-packages (from fuzzy-c-means) (0.8.9)\n",
      "Requirement already satisfied: typing-extensions>=3.7.4.3 in c:\\users\\acer\\anaconda3\\envs\\multicons\\lib\\site-packages (from pydantic<2.0.0,>=1.9.0->fuzzy-c-means) (4.1.1)\n",
      "Requirement already satisfied: click<9.0.0,>=7.1.1 in c:\\users\\acer\\anaconda3\\envs\\multicons\\lib\\site-packages (from typer<0.5.0,>=0.4.0->fuzzy-c-means) (8.1.3)\n",
      "Requirement already satisfied: colorama in c:\\users\\acer\\anaconda3\\envs\\multicons\\lib\\site-packages (from click<9.0.0,>=7.1.1->typer<0.5.0,>=0.4.0->fuzzy-c-means) (0.4.4)\n",
      "Requirement already satisfied: matplotlib in c:\\users\\acer\\anaconda3\\envs\\multicons\\lib\\site-packages (3.5.2)\n",
      "Requirement already satisfied: kiwisolver>=1.0.1 in c:\\users\\acer\\anaconda3\\envs\\multicons\\lib\\site-packages (from matplotlib) (1.4.2)\n",
      "Requirement already satisfied: cycler>=0.10 in c:\\users\\acer\\anaconda3\\envs\\multicons\\lib\\site-packages (from matplotlib) (0.11.0)\n",
      "Requirement already satisfied: pyparsing>=2.2.1 in c:\\users\\acer\\anaconda3\\envs\\multicons\\lib\\site-packages (from matplotlib) (3.0.4)\n",
      "Requirement already satisfied: pillow>=6.2.0 in c:\\users\\acer\\anaconda3\\envs\\multicons\\lib\\site-packages (from matplotlib) (9.1.1)\n",
      "Requirement already satisfied: packaging>=20.0 in c:\\users\\acer\\anaconda3\\envs\\multicons\\lib\\site-packages (from matplotlib) (21.3)\n",
      "Requirement already satisfied: python-dateutil>=2.7 in c:\\users\\acer\\anaconda3\\envs\\multicons\\lib\\site-packages (from matplotlib) (2.8.2)\n",
      "Requirement already satisfied: fonttools>=4.22.0 in c:\\users\\acer\\anaconda3\\envs\\multicons\\lib\\site-packages (from matplotlib) (4.33.3)\n",
      "Requirement already satisfied: numpy>=1.17 in c:\\users\\acer\\anaconda3\\envs\\multicons\\lib\\site-packages (from matplotlib) (1.22.3)\n",
      "Requirement already satisfied: six>=1.5 in c:\\users\\acer\\anaconda3\\envs\\multicons\\lib\\site-packages (from python-dateutil>=2.7->matplotlib) (1.16.0)\n",
      "Collecting seaborn\n",
      "  Downloading seaborn-0.11.2-py3-none-any.whl (292 kB)\n",
      "Requirement already satisfied: matplotlib>=2.2 in c:\\users\\acer\\anaconda3\\envs\\multicons\\lib\\site-packages (from seaborn) (3.5.2)\n",
      "Requirement already satisfied: numpy>=1.15 in c:\\users\\acer\\anaconda3\\envs\\multicons\\lib\\site-packages (from seaborn) (1.22.3)\n",
      "Requirement already satisfied: pandas>=0.23 in c:\\users\\acer\\anaconda3\\envs\\multicons\\lib\\site-packages (from seaborn) (1.4.2)\n",
      "Requirement already satisfied: scipy>=1.0 in c:\\users\\acer\\anaconda3\\envs\\multicons\\lib\\site-packages (from seaborn) (1.8.1)\n",
      "Requirement already satisfied: cycler>=0.10 in c:\\users\\acer\\anaconda3\\envs\\multicons\\lib\\site-packages (from matplotlib>=2.2->seaborn) (0.11.0)\n",
      "Requirement already satisfied: kiwisolver>=1.0.1 in c:\\users\\acer\\anaconda3\\envs\\multicons\\lib\\site-packages (from matplotlib>=2.2->seaborn) (1.4.2)\n",
      "Requirement already satisfied: pyparsing>=2.2.1 in c:\\users\\acer\\anaconda3\\envs\\multicons\\lib\\site-packages (from matplotlib>=2.2->seaborn) (3.0.4)\n",
      "Requirement already satisfied: fonttools>=4.22.0 in c:\\users\\acer\\anaconda3\\envs\\multicons\\lib\\site-packages (from matplotlib>=2.2->seaborn) (4.33.3)\n",
      "Requirement already satisfied: pillow>=6.2.0 in c:\\users\\acer\\anaconda3\\envs\\multicons\\lib\\site-packages (from matplotlib>=2.2->seaborn) (9.1.1)\n",
      "Requirement already satisfied: python-dateutil>=2.7 in c:\\users\\acer\\anaconda3\\envs\\multicons\\lib\\site-packages (from matplotlib>=2.2->seaborn) (2.8.2)\n",
      "Requirement already satisfied: packaging>=20.0 in c:\\users\\acer\\anaconda3\\envs\\multicons\\lib\\site-packages (from matplotlib>=2.2->seaborn) (21.3)\n",
      "Requirement already satisfied: pytz>=2020.1 in c:\\users\\acer\\anaconda3\\envs\\multicons\\lib\\site-packages (from pandas>=0.23->seaborn) (2022.1)\n",
      "Requirement already satisfied: six>=1.5 in c:\\users\\acer\\anaconda3\\envs\\multicons\\lib\\site-packages (from python-dateutil>=2.7->matplotlib>=2.2->seaborn) (1.16.0)\n",
      "Installing collected packages: seaborn\n",
      "Successfully installed seaborn-0.11.2\n",
      "Requirement already satisfied: sklearn in c:\\users\\acer\\anaconda3\\envs\\multicons\\lib\\site-packages (0.0)\n",
      "Requirement already satisfied: scikit-learn in c:\\users\\acer\\anaconda3\\envs\\multicons\\lib\\site-packages (from sklearn) (1.0.2)\n",
      "Requirement already satisfied: scipy>=1.1.0 in c:\\users\\acer\\anaconda3\\envs\\multicons\\lib\\site-packages (from scikit-learn->sklearn) (1.8.1)\n",
      "Requirement already satisfied: joblib>=0.11 in c:\\users\\acer\\anaconda3\\envs\\multicons\\lib\\site-packages (from scikit-learn->sklearn) (1.1.0)\n",
      "Requirement already satisfied: numpy>=1.14.6 in c:\\users\\acer\\anaconda3\\envs\\multicons\\lib\\site-packages (from scikit-learn->sklearn) (1.22.3)\n",
      "Requirement already satisfied: threadpoolctl>=2.0.0 in c:\\users\\acer\\anaconda3\\envs\\multicons\\lib\\site-packages (from scikit-learn->sklearn) (3.1.0)\n",
      "Requirement already satisfied: scikit-learn-extra in c:\\users\\acer\\anaconda3\\envs\\multicons\\lib\\site-packages (0.2.0)\n",
      "Requirement already satisfied: numpy>=1.13.3 in c:\\users\\acer\\anaconda3\\envs\\multicons\\lib\\site-packages (from scikit-learn-extra) (1.22.3)\n",
      "Requirement already satisfied: scikit-learn>=0.23.0 in c:\\users\\acer\\anaconda3\\envs\\multicons\\lib\\site-packages (from scikit-learn-extra) (1.0.2)\n",
      "Requirement already satisfied: scipy>=0.19.1 in c:\\users\\acer\\anaconda3\\envs\\multicons\\lib\\site-packages (from scikit-learn-extra) (1.8.1)\n",
      "Requirement already satisfied: threadpoolctl>=2.0.0 in c:\\users\\acer\\anaconda3\\envs\\multicons\\lib\\site-packages (from scikit-learn>=0.23.0->scikit-learn-extra) (3.1.0)\n",
      "Requirement already satisfied: joblib>=0.11 in c:\\users\\acer\\anaconda3\\envs\\multicons\\lib\\site-packages (from scikit-learn>=0.23.0->scikit-learn-extra) (1.1.0)\n",
      "Requirement already satisfied: graphviz in c:\\users\\acer\\anaconda3\\envs\\multicons\\lib\\site-packages (0.20)\n"
     ]
    }
   ],
   "source": [
    "#jupyter notebook --NotebookApp.max_buffer_size=40000000000\n",
    "## Allocated 4 Gb Memory \n",
    "\n",
    "!pip install fuzzy-c-means\n",
    "!pip install matplotlib\n",
    "!pip install seaborn\n",
    "!pip install sklearn\n",
    "!pip install scikit-learn-extra\n",
    "!pip install graphviz"
   ]
  },
  {
   "cell_type": "markdown",
   "id": "816c02dc",
   "metadata": {},
   "source": [
    "Loading all required packages"
   ]
  },
  {
   "cell_type": "code",
   "execution_count": 1,
   "id": "78190380",
   "metadata": {},
   "outputs": [
    {
     "data": {
      "text/plain": [
       "{'divide': 'warn', 'over': 'warn', 'under': 'ignore', 'invalid': 'warn'}"
      ]
     },
     "execution_count": 1,
     "metadata": {},
     "output_type": "execute_result"
    }
   ],
   "source": [
    "from os import path\n",
    "\n",
    "import numpy as np\n",
    "import pandas as pd\n",
    "from fcmeans import FCM\n",
    "from matplotlib import pyplot as plt\n",
    "from sklearn.cluster import (\n",
    "    DBSCAN,\n",
    "    AgglomerativeClustering,\n",
    "    Birch,\n",
    "    KMeans,\n",
    "    SpectralClustering,\n",
    ")\n",
    "from sklearn.mixture import GaussianMixture\n",
    "from sklearn_extra.cluster import KMedoids\n",
    "\n",
    "from multicons import MultiCons\n",
    "from multicons.utils import jaccard_similarity\n",
    "\n",
    "np.set_printoptions(threshold=100)\n",
    "np.seterr(over='ignore')"
   ]
  },
  {
   "cell_type": "markdown",
   "id": "e671fab7",
   "metadata": {},
   "source": [
    "Loading studentInfo data.\n",
    "\n",
    "We may get 'average scores' and 'total assessment attempted' from the assessments table; We may get 'number of clicks' and 'number of pages visited' from the VLE table. These engineered data columns are against students, so can be appended to the studentsInfo table."
   ]
  },
  {
   "cell_type": "code",
   "execution_count": 2,
   "id": "043d493b",
   "metadata": {},
   "outputs": [
    {
     "name": "stdout",
     "output_type": "stream",
     "text": [
      "<class 'pandas.core.frame.DataFrame'>\n",
      "RangeIndex: 32593 entries, 0 to 32592\n",
      "Data columns (total 12 columns):\n",
      " #   Column                Non-Null Count  Dtype \n",
      "---  ------                --------------  ----- \n",
      " 0   code_module           32593 non-null  object\n",
      " 1   code_presentation     32593 non-null  object\n",
      " 2   id_student            32593 non-null  int64 \n",
      " 3   gender                32593 non-null  object\n",
      " 4   region                32593 non-null  object\n",
      " 5   highest_education     32593 non-null  object\n",
      " 6   imd_band              31482 non-null  object\n",
      " 7   age_band              32593 non-null  object\n",
      " 8   num_of_prev_attempts  32593 non-null  int64 \n",
      " 9   studied_credits       32593 non-null  int64 \n",
      " 10  disability            32593 non-null  object\n",
      " 11  final_result          32593 non-null  object\n",
      "dtypes: int64(3), object(9)\n",
      "memory usage: 3.0+ MB\n"
     ]
    },
    {
     "data": {
      "text/html": [
       "<div>\n",
       "<style scoped>\n",
       "    .dataframe tbody tr th:only-of-type {\n",
       "        vertical-align: middle;\n",
       "    }\n",
       "\n",
       "    .dataframe tbody tr th {\n",
       "        vertical-align: top;\n",
       "    }\n",
       "\n",
       "    .dataframe thead th {\n",
       "        text-align: right;\n",
       "    }\n",
       "</style>\n",
       "<table border=\"1\" class=\"dataframe\">\n",
       "  <thead>\n",
       "    <tr style=\"text-align: right;\">\n",
       "      <th></th>\n",
       "      <th>code_module</th>\n",
       "      <th>code_presentation</th>\n",
       "      <th>id_student</th>\n",
       "      <th>gender</th>\n",
       "      <th>region</th>\n",
       "      <th>highest_education</th>\n",
       "      <th>imd_band</th>\n",
       "      <th>age_band</th>\n",
       "      <th>num_of_prev_attempts</th>\n",
       "      <th>studied_credits</th>\n",
       "      <th>disability</th>\n",
       "      <th>final_result</th>\n",
       "    </tr>\n",
       "  </thead>\n",
       "  <tbody>\n",
       "    <tr>\n",
       "      <th>0</th>\n",
       "      <td>AAA</td>\n",
       "      <td>2013J</td>\n",
       "      <td>11391</td>\n",
       "      <td>M</td>\n",
       "      <td>East Anglian Region</td>\n",
       "      <td>HE Qualification</td>\n",
       "      <td>90-100%</td>\n",
       "      <td>55&lt;=</td>\n",
       "      <td>0</td>\n",
       "      <td>240</td>\n",
       "      <td>N</td>\n",
       "      <td>Pass</td>\n",
       "    </tr>\n",
       "    <tr>\n",
       "      <th>1</th>\n",
       "      <td>AAA</td>\n",
       "      <td>2013J</td>\n",
       "      <td>28400</td>\n",
       "      <td>F</td>\n",
       "      <td>Scotland</td>\n",
       "      <td>HE Qualification</td>\n",
       "      <td>20-30%</td>\n",
       "      <td>35-55</td>\n",
       "      <td>0</td>\n",
       "      <td>60</td>\n",
       "      <td>N</td>\n",
       "      <td>Pass</td>\n",
       "    </tr>\n",
       "    <tr>\n",
       "      <th>2</th>\n",
       "      <td>AAA</td>\n",
       "      <td>2013J</td>\n",
       "      <td>30268</td>\n",
       "      <td>F</td>\n",
       "      <td>North Western Region</td>\n",
       "      <td>A Level or Equivalent</td>\n",
       "      <td>30-40%</td>\n",
       "      <td>35-55</td>\n",
       "      <td>0</td>\n",
       "      <td>60</td>\n",
       "      <td>Y</td>\n",
       "      <td>Withdrawn</td>\n",
       "    </tr>\n",
       "    <tr>\n",
       "      <th>3</th>\n",
       "      <td>AAA</td>\n",
       "      <td>2013J</td>\n",
       "      <td>31604</td>\n",
       "      <td>F</td>\n",
       "      <td>South East Region</td>\n",
       "      <td>A Level or Equivalent</td>\n",
       "      <td>50-60%</td>\n",
       "      <td>35-55</td>\n",
       "      <td>0</td>\n",
       "      <td>60</td>\n",
       "      <td>N</td>\n",
       "      <td>Pass</td>\n",
       "    </tr>\n",
       "    <tr>\n",
       "      <th>4</th>\n",
       "      <td>AAA</td>\n",
       "      <td>2013J</td>\n",
       "      <td>32885</td>\n",
       "      <td>F</td>\n",
       "      <td>West Midlands Region</td>\n",
       "      <td>Lower Than A Level</td>\n",
       "      <td>50-60%</td>\n",
       "      <td>0-35</td>\n",
       "      <td>0</td>\n",
       "      <td>60</td>\n",
       "      <td>N</td>\n",
       "      <td>Pass</td>\n",
       "    </tr>\n",
       "  </tbody>\n",
       "</table>\n",
       "</div>"
      ],
      "text/plain": [
       "  code_module code_presentation  id_student gender                region  \\\n",
       "0         AAA             2013J       11391      M   East Anglian Region   \n",
       "1         AAA             2013J       28400      F              Scotland   \n",
       "2         AAA             2013J       30268      F  North Western Region   \n",
       "3         AAA             2013J       31604      F     South East Region   \n",
       "4         AAA             2013J       32885      F  West Midlands Region   \n",
       "\n",
       "       highest_education imd_band age_band  num_of_prev_attempts  \\\n",
       "0       HE Qualification  90-100%     55<=                     0   \n",
       "1       HE Qualification   20-30%    35-55                     0   \n",
       "2  A Level or Equivalent   30-40%    35-55                     0   \n",
       "3  A Level or Equivalent   50-60%    35-55                     0   \n",
       "4     Lower Than A Level   50-60%     0-35                     0   \n",
       "\n",
       "   studied_credits disability final_result  \n",
       "0              240          N         Pass  \n",
       "1               60          N         Pass  \n",
       "2               60          Y    Withdrawn  \n",
       "3               60          N         Pass  \n",
       "4               60          N         Pass  "
      ]
     },
     "execution_count": 2,
     "metadata": {},
     "output_type": "execute_result"
    }
   ],
   "source": [
    "studentInfo_df = pd.read_csv('studentInfo.csv')\n",
    "studentInfo_df.info()\n",
    "studentInfo_df.head()"
   ]
  },
  {
   "cell_type": "markdown",
   "id": "18e08445",
   "metadata": {},
   "source": [
    "There are duplicate student ids, probably multiple entries for the same students. Drop these duplicate rows."
   ]
  },
  {
   "cell_type": "code",
   "execution_count": 3,
   "id": "f745048f",
   "metadata": {},
   "outputs": [
    {
     "name": "stdout",
     "output_type": "stream",
     "text": [
      "<class 'pandas.core.frame.DataFrame'>\n",
      "Int64Index: 31590 entries, 0 to 32592\n",
      "Data columns (total 10 columns):\n",
      " #   Column                Non-Null Count  Dtype \n",
      "---  ------                --------------  ----- \n",
      " 0   id_student            31590 non-null  int64 \n",
      " 1   gender                31590 non-null  object\n",
      " 2   region                31590 non-null  object\n",
      " 3   highest_education     31590 non-null  object\n",
      " 4   imd_band              30528 non-null  object\n",
      " 5   age_band              31590 non-null  object\n",
      " 6   num_of_prev_attempts  31590 non-null  int64 \n",
      " 7   studied_credits       31590 non-null  int64 \n",
      " 8   disability            31590 non-null  object\n",
      " 9   final_result          31590 non-null  object\n",
      "dtypes: int64(3), object(7)\n",
      "memory usage: 2.7+ MB\n"
     ]
    },
    {
     "data": {
      "text/html": [
       "<div>\n",
       "<style scoped>\n",
       "    .dataframe tbody tr th:only-of-type {\n",
       "        vertical-align: middle;\n",
       "    }\n",
       "\n",
       "    .dataframe tbody tr th {\n",
       "        vertical-align: top;\n",
       "    }\n",
       "\n",
       "    .dataframe thead th {\n",
       "        text-align: right;\n",
       "    }\n",
       "</style>\n",
       "<table border=\"1\" class=\"dataframe\">\n",
       "  <thead>\n",
       "    <tr style=\"text-align: right;\">\n",
       "      <th></th>\n",
       "      <th>id_student</th>\n",
       "      <th>gender</th>\n",
       "      <th>region</th>\n",
       "      <th>highest_education</th>\n",
       "      <th>imd_band</th>\n",
       "      <th>age_band</th>\n",
       "      <th>num_of_prev_attempts</th>\n",
       "      <th>studied_credits</th>\n",
       "      <th>disability</th>\n",
       "      <th>final_result</th>\n",
       "    </tr>\n",
       "  </thead>\n",
       "  <tbody>\n",
       "    <tr>\n",
       "      <th>0</th>\n",
       "      <td>11391</td>\n",
       "      <td>M</td>\n",
       "      <td>East Anglian Region</td>\n",
       "      <td>HE Qualification</td>\n",
       "      <td>90-100%</td>\n",
       "      <td>55&lt;=</td>\n",
       "      <td>0</td>\n",
       "      <td>240</td>\n",
       "      <td>N</td>\n",
       "      <td>Pass</td>\n",
       "    </tr>\n",
       "    <tr>\n",
       "      <th>1</th>\n",
       "      <td>28400</td>\n",
       "      <td>F</td>\n",
       "      <td>Scotland</td>\n",
       "      <td>HE Qualification</td>\n",
       "      <td>20-30%</td>\n",
       "      <td>35-55</td>\n",
       "      <td>0</td>\n",
       "      <td>60</td>\n",
       "      <td>N</td>\n",
       "      <td>Pass</td>\n",
       "    </tr>\n",
       "    <tr>\n",
       "      <th>2</th>\n",
       "      <td>30268</td>\n",
       "      <td>F</td>\n",
       "      <td>North Western Region</td>\n",
       "      <td>A Level or Equivalent</td>\n",
       "      <td>30-40%</td>\n",
       "      <td>35-55</td>\n",
       "      <td>0</td>\n",
       "      <td>60</td>\n",
       "      <td>Y</td>\n",
       "      <td>Withdrawn</td>\n",
       "    </tr>\n",
       "    <tr>\n",
       "      <th>3</th>\n",
       "      <td>31604</td>\n",
       "      <td>F</td>\n",
       "      <td>South East Region</td>\n",
       "      <td>A Level or Equivalent</td>\n",
       "      <td>50-60%</td>\n",
       "      <td>35-55</td>\n",
       "      <td>0</td>\n",
       "      <td>60</td>\n",
       "      <td>N</td>\n",
       "      <td>Pass</td>\n",
       "    </tr>\n",
       "    <tr>\n",
       "      <th>4</th>\n",
       "      <td>32885</td>\n",
       "      <td>F</td>\n",
       "      <td>West Midlands Region</td>\n",
       "      <td>Lower Than A Level</td>\n",
       "      <td>50-60%</td>\n",
       "      <td>0-35</td>\n",
       "      <td>0</td>\n",
       "      <td>60</td>\n",
       "      <td>N</td>\n",
       "      <td>Pass</td>\n",
       "    </tr>\n",
       "  </tbody>\n",
       "</table>\n",
       "</div>"
      ],
      "text/plain": [
       "   id_student gender                region      highest_education imd_band  \\\n",
       "0       11391      M   East Anglian Region       HE Qualification  90-100%   \n",
       "1       28400      F              Scotland       HE Qualification   20-30%   \n",
       "2       30268      F  North Western Region  A Level or Equivalent   30-40%   \n",
       "3       31604      F     South East Region  A Level or Equivalent   50-60%   \n",
       "4       32885      F  West Midlands Region     Lower Than A Level   50-60%   \n",
       "\n",
       "  age_band  num_of_prev_attempts  studied_credits disability final_result  \n",
       "0     55<=                     0              240          N         Pass  \n",
       "1    35-55                     0               60          N         Pass  \n",
       "2    35-55                     0               60          Y    Withdrawn  \n",
       "3    35-55                     0               60          N         Pass  \n",
       "4     0-35                     0               60          N         Pass  "
      ]
     },
     "execution_count": 3,
     "metadata": {},
     "output_type": "execute_result"
    }
   ],
   "source": [
    "cols_to_keep = ['id_student', 'gender', 'region', \n",
    "                'highest_education', 'imd_band', \n",
    "                'age_band', 'num_of_prev_attempts', \n",
    "                'studied_credits', 'disability', \n",
    "                'final_result']\n",
    "\n",
    "# Remove duplicate values\n",
    "studentProfile_df = studentInfo_df[cols_to_keep].drop_duplicates()\n",
    "studentProfile_df.info()\n",
    "studentProfile_df.head()"
   ]
  },
  {
   "cell_type": "markdown",
   "id": "10f71ad8",
   "metadata": {},
   "source": [
    "Encode all categorical columns using LabelEncoder. "
   ]
  },
  {
   "cell_type": "code",
   "execution_count": 4,
   "id": "ec9ef18a",
   "metadata": {},
   "outputs": [
    {
     "name": "stdout",
     "output_type": "stream",
     "text": [
      "<class 'pandas.core.frame.DataFrame'>\n",
      "Int64Index: 31590 entries, 0 to 32592\n",
      "Data columns (total 10 columns):\n",
      " #   Column                Non-Null Count  Dtype\n",
      "---  ------                --------------  -----\n",
      " 0   id_student            31590 non-null  int64\n",
      " 1   gender                31590 non-null  int32\n",
      " 2   region                31590 non-null  int32\n",
      " 3   highest_education     31590 non-null  int32\n",
      " 4   imd_band              31590 non-null  int32\n",
      " 5   age_band              31590 non-null  int32\n",
      " 6   num_of_prev_attempts  31590 non-null  int64\n",
      " 7   studied_credits       31590 non-null  int64\n",
      " 8   disability            31590 non-null  int32\n",
      " 9   final_result          31590 non-null  int32\n",
      "dtypes: int32(7), int64(3)\n",
      "memory usage: 1.8 MB\n"
     ]
    },
    {
     "data": {
      "text/html": [
       "<div>\n",
       "<style scoped>\n",
       "    .dataframe tbody tr th:only-of-type {\n",
       "        vertical-align: middle;\n",
       "    }\n",
       "\n",
       "    .dataframe tbody tr th {\n",
       "        vertical-align: top;\n",
       "    }\n",
       "\n",
       "    .dataframe thead th {\n",
       "        text-align: right;\n",
       "    }\n",
       "</style>\n",
       "<table border=\"1\" class=\"dataframe\">\n",
       "  <thead>\n",
       "    <tr style=\"text-align: right;\">\n",
       "      <th></th>\n",
       "      <th>id_student</th>\n",
       "      <th>gender</th>\n",
       "      <th>region</th>\n",
       "      <th>highest_education</th>\n",
       "      <th>imd_band</th>\n",
       "      <th>age_band</th>\n",
       "      <th>num_of_prev_attempts</th>\n",
       "      <th>studied_credits</th>\n",
       "      <th>disability</th>\n",
       "      <th>final_result</th>\n",
       "    </tr>\n",
       "  </thead>\n",
       "  <tbody>\n",
       "    <tr>\n",
       "      <th>0</th>\n",
       "      <td>11391</td>\n",
       "      <td>1</td>\n",
       "      <td>0</td>\n",
       "      <td>1</td>\n",
       "      <td>9</td>\n",
       "      <td>2</td>\n",
       "      <td>0</td>\n",
       "      <td>240</td>\n",
       "      <td>0</td>\n",
       "      <td>2</td>\n",
       "    </tr>\n",
       "    <tr>\n",
       "      <th>1</th>\n",
       "      <td>28400</td>\n",
       "      <td>0</td>\n",
       "      <td>6</td>\n",
       "      <td>1</td>\n",
       "      <td>2</td>\n",
       "      <td>1</td>\n",
       "      <td>0</td>\n",
       "      <td>60</td>\n",
       "      <td>0</td>\n",
       "      <td>2</td>\n",
       "    </tr>\n",
       "    <tr>\n",
       "      <th>2</th>\n",
       "      <td>30268</td>\n",
       "      <td>0</td>\n",
       "      <td>5</td>\n",
       "      <td>0</td>\n",
       "      <td>3</td>\n",
       "      <td>1</td>\n",
       "      <td>0</td>\n",
       "      <td>60</td>\n",
       "      <td>1</td>\n",
       "      <td>3</td>\n",
       "    </tr>\n",
       "    <tr>\n",
       "      <th>3</th>\n",
       "      <td>31604</td>\n",
       "      <td>0</td>\n",
       "      <td>7</td>\n",
       "      <td>0</td>\n",
       "      <td>5</td>\n",
       "      <td>1</td>\n",
       "      <td>0</td>\n",
       "      <td>60</td>\n",
       "      <td>0</td>\n",
       "      <td>2</td>\n",
       "    </tr>\n",
       "    <tr>\n",
       "      <th>4</th>\n",
       "      <td>32885</td>\n",
       "      <td>0</td>\n",
       "      <td>11</td>\n",
       "      <td>2</td>\n",
       "      <td>5</td>\n",
       "      <td>0</td>\n",
       "      <td>0</td>\n",
       "      <td>60</td>\n",
       "      <td>0</td>\n",
       "      <td>2</td>\n",
       "    </tr>\n",
       "  </tbody>\n",
       "</table>\n",
       "</div>"
      ],
      "text/plain": [
       "   id_student  gender  region  highest_education  imd_band  age_band  \\\n",
       "0       11391       1       0                  1         9         2   \n",
       "1       28400       0       6                  1         2         1   \n",
       "2       30268       0       5                  0         3         1   \n",
       "3       31604       0       7                  0         5         1   \n",
       "4       32885       0      11                  2         5         0   \n",
       "\n",
       "   num_of_prev_attempts  studied_credits  disability  final_result  \n",
       "0                     0              240           0             2  \n",
       "1                     0               60           0             2  \n",
       "2                     0               60           1             3  \n",
       "3                     0               60           0             2  \n",
       "4                     0               60           0             2  "
      ]
     },
     "execution_count": 4,
     "metadata": {},
     "output_type": "execute_result"
    }
   ],
   "source": [
    "from sklearn.preprocessing import LabelEncoder\n",
    "\n",
    "enc_studentProfile_df = studentProfile_df.copy()\n",
    "\n",
    "cols_to_encode = ['gender', 'region', 'highest_education', \n",
    "                  'imd_band', 'age_band', 'disability', \n",
    "                  'final_result']\n",
    "\n",
    "# Encode categorical data\n",
    "enc_studentProfile_df[cols_to_encode] = studentProfile_df[cols_to_encode].apply(LabelEncoder().fit_transform)\n",
    "\n",
    "enc_studentProfile_df.info()\n",
    "enc_studentProfile_df.head()"
   ]
  },
  {
   "cell_type": "code",
   "execution_count": 5,
   "id": "0a8a6c02",
   "metadata": {},
   "outputs": [
    {
     "data": {
      "text/plain": [
       "(3159, 10)"
      ]
     },
     "execution_count": 5,
     "metadata": {},
     "output_type": "execute_result"
    }
   ],
   "source": [
    "enc_studentProfile_df = enc_studentProfile_df.sample(frac=0.10)\n",
    "enc_studentProfile_df.shape"
   ]
  },
  {
   "cell_type": "markdown",
   "id": "a06c00e2",
   "metadata": {},
   "source": [
    "Plot a correlation matrix for the encoded data frame (all numerical columns).\n",
    "\n",
    "Considering final result as the dependent variable and the rest as independent variable. We can see some correlation between final result and studied credits. This makes sense.\n",
    "\n",
    "Among independent variable, there is some correlation between studied credits and number of previous attempts. Again makes sense, as the variables are related.\n",
    "\n",
    "Remember we need  to ignore student id because it is just a sequence number, it does not represent or relate to dependent variable, final result."
   ]
  },
  {
   "cell_type": "code",
   "execution_count": 7,
   "id": "626af54c",
   "metadata": {},
   "outputs": [
    {
     "data": {
      "text/plain": [
       "<AxesSubplot:>"
      ]
     },
     "execution_count": 7,
     "metadata": {},
     "output_type": "execute_result"
    },
    {
     "data": {
      "image/png": "[encoded data removed]",
      "text/plain": [
       "<Figure size 576x432 with 2 Axes>"
      ]
     },
     "metadata": {
      "needs_background": "light"
     },
     "output_type": "display_data"
    }
   ],
   "source": [
    "import matplotlib.pyplot as plt\n",
    "import seaborn as sns\n",
    "\n",
    "plt.figure(figsize=(8,6))\n",
    "sns.heatmap(enc_studentProfile_df.corr(),annot=True)"
   ]
  },
  {
   "cell_type": "markdown",
   "id": "2b87f6dc",
   "metadata": {},
   "source": [
    "Drop the sequence number (student id) and the dependent variable (final result) from the data frame. The latter because we want to determine whether the computed clusters from independent variables has discriminatory power for the dependent variable, for instance, a cluster with failed students."
   ]
  },
  {
   "cell_type": "markdown",
   "id": "99baa3cd",
   "metadata": {},
   "source": [
    "Clustering often involves distance-based measures, variables with different data ranges may give false sense of effect, in other words, some variables may have more impact on the magnitude of the distance measure.\n",
    "\n",
    "Standardize all data columns to zero mean."
   ]
  },
  {
   "cell_type": "code",
   "execution_count": 8,
   "id": "a74328dc",
   "metadata": {},
   "outputs": [
    {
     "data": {
      "text/plain": [
       "array([[ 0.96179296,  1.43123078,  0.99119671, ...,  0.99130194,\n",
       "        -0.3339778 , -2.00750853],\n",
       "       [ 0.96179296,  0.32680134, -1.05466439, ..., -0.44068777,\n",
       "        -0.3339778 ,  0.09832559],\n",
       "       [-1.0397248 ,  1.15512342,  0.99119671, ..., -0.44068777,\n",
       "        -0.3339778 ,  0.09832559],\n",
       "       ...,\n",
       "       [-1.0397248 , -1.32984283,  0.99119671, ..., -0.44068777,\n",
       "        -0.3339778 ,  1.15124264],\n",
       "       [-1.0397248 ,  1.15512342, -1.05466439, ..., -0.44068777,\n",
       "        -0.3339778 ,  0.09832559],\n",
       "       [-1.0397248 ,  1.15512342,  0.99119671, ..., -0.44068777,\n",
       "        -0.3339778 ,  0.09832559]])"
      ]
     },
     "execution_count": 8,
     "metadata": {},
     "output_type": "execute_result"
    }
   ],
   "source": [
    "from sklearn.preprocessing import StandardScaler\n",
    "\n",
    "cols_to_encode = ['gender', 'region', 'highest_education', \n",
    "                  'imd_band', 'age_band', 'num_of_prev_attempts', \n",
    "                  'studied_credits', 'disability', \n",
    "                  'final_result']\n",
    "\n",
    "# Standardize the data\n",
    "scaled_studentProfile_df = StandardScaler().fit_transform(enc_studentProfile_df[cols_to_encode])\n",
    "scaled_studentProfile_df"
   ]
  },
  {
   "cell_type": "markdown",
   "id": "2701c4ec",
   "metadata": {},
   "source": [
    "Get base clusterings for candidate clustering methods, meaning for every data point get its cluster using different methods. These base clusterings will be used by the consensus algorithm.\n",
    "\n",
    "I have remarked the time complexities of the differnt algorithms, some are fast while others are slow.\n",
    "\n",
    "Here I have used the four fastest clustering methods. We can experiment or include the rest."
   ]
  },
  {
   "cell_type": "code",
   "execution_count": 9,
   "id": "d77991c9",
   "metadata": {},
   "outputs": [],
   "source": [
    "def get_base_clusterings(df, k):\n",
    "    # Our collection of base clusterings\n",
    "    base_clusterings = []\n",
    "\n",
    "    # K-means O(N.K.L) N: #samples; K: #clusters; L: #iterations\n",
    "    base_clusterings.append(KMeans(n_clusters=k).fit_predict(df))\n",
    "\n",
    "    '''\n",
    "    # Average linkage O(N^3)\n",
    "    base_clusterings.append(\n",
    "        AgglomerativeClustering(n_clusters=k).fit_predict(df)\n",
    "    )\n",
    "    '''\n",
    "\n",
    "    # Gaussian model O(N.K.D^3) D: #data dimensions\n",
    "    base_clusterings.append(\n",
    "        GaussianMixture(n_components=k, random_state=5).fit_predict(df)\n",
    "    )\n",
    "\n",
    "\n",
    "    # C-means O(N.K)\n",
    "    fcm = FCM(n_clusters=k, max_iter=5, m=5)\n",
    "    fcm.fit(df)\n",
    "    base_clusterings.append(fcm.predict(df))\n",
    "\n",
    "    '''\n",
    "    # PAM O(N^2)\n",
    "    base_clusterings.append(KMedoids(n_clusters=k).fit_predict(df))\n",
    "    '''\n",
    "\n",
    "    # BIRCH O(N)\n",
    "    birch = Birch(n_clusters=k, threshold=0.5)\n",
    "    base_clusterings.append(birch.fit_predict(df))\n",
    "\n",
    "    '''\n",
    "    # Spectral O(N^3)\n",
    "    base_clusterings.append(\n",
    "        SpectralClustering(n_clusters=k).fit_predict(df)\n",
    "    )\n",
    "    '''\n",
    "\n",
    "    '''\n",
    "    # DBSCAN O(NlogN)\n",
    "    base_clusterings.append(DBSCAN(eps=0.2).fit_predict(df))\n",
    "    '''\n",
    "    \n",
    "    return base_clusterings\n",
    "\n",
    "base_clusterings = get_base_clusterings(scaled_studentProfile_df, 3)"
   ]
  },
  {
   "cell_type": "code",
   "execution_count": 10,
   "id": "5a6cd41e",
   "metadata": {},
   "outputs": [
    {
     "data": {
      "text/plain": [
       "array([[2, 2, 1, ..., 1, 1, 1],\n",
       "       [0, 0, 1, ..., 1, 1, 2],\n",
       "       [0, 2, 1, ..., 1, 2, 1],\n",
       "       [0, 0, 0, ..., 0, 0, 0]], dtype=int64)"
      ]
     },
     "execution_count": 10,
     "metadata": {},
     "output_type": "execute_result"
    }
   ],
   "source": [
    "np.array(base_clusterings)"
   ]
  },
  {
   "cell_type": "markdown",
   "id": "d244cfd0",
   "metadata": {},
   "source": [
    "Now that we have the base clusterings, run the consensus algorithm. Why consensus? it is difficult to know what algorithm partitions your data better. So we get base clusterings and find patterns that are shared among them, using frequent itemsets, a data mining approach."
   ]
  },
  {
   "cell_type": "code",
   "execution_count": 11,
   "id": "0bed3c6e",
   "metadata": {},
   "outputs": [
    {
     "data": {
      "text/plain": [
       "MultiCons(consensus_function=<function consensus_function_10 at 0x0000022107E9E4C0>,\n",
       "          similarity_measure=<function jaccard_similarity at 0x0000022107F2B820>)"
      ]
     },
     "execution_count": 11,
     "metadata": {},
     "output_type": "execute_result"
    }
   ],
   "source": [
    "# MultiCons implementation aims to follow scikit-learn conventions.\n",
    "consensus = MultiCons().fit(base_clusterings)\n",
    "consensus"
   ]
  },
  {
   "cell_type": "markdown",
   "id": "b4fb3bcf",
   "metadata": {},
   "source": [
    "The results from the consensus algorithm is a set of clustering vectors, meaning it returns multiple possible solutions. Each row represnts a consensus vector, a solution among the multiple solutions. Moreover, each solution is related hierarchically, each solution from last to first consensus vector (bottom-up fashion) represents the levels of a consensus tree where new base clusters are formed."
   ]
  },
  {
   "cell_type": "code",
   "execution_count": 12,
   "id": "71f1b5ec",
   "metadata": {},
   "outputs": [
    {
     "data": {
      "text/plain": [
       "array([[ 0,  0,  0, ...,  0,  0,  0],\n",
       "       [32, 33, 34, ..., 34, 29, 31]])"
      ]
     },
     "execution_count": 12,
     "metadata": {},
     "output_type": "execute_result"
    }
   ],
   "source": [
    "# The `consensus_vectors` attribute is a python list containing the\n",
    "# consensus candidates.\n",
    "# We transform it to a numpy array to better visualize it here.\n",
    "np.array(consensus.consensus_vectors)"
   ]
  },
  {
   "cell_type": "markdown",
   "id": "548d14e1",
   "metadata": {},
   "source": [
    "The value of the decision threshold represents the minimum number of base clustering executions (number of base partitions) for building a new base cluster (so-called bi-cluster, or simply the most similar base clusters merged together). \n",
    "\n",
    "Here 3 for the first consensus vector is a range of 1 to 3, so basically the smaller threshold is the faster when coming up with consensus. (Need to confirm this)"
   ]
  },
  {
   "cell_type": "code",
   "execution_count": 13,
   "id": "8d22a7d0",
   "metadata": {},
   "outputs": [
    {
     "data": {
      "text/plain": [
       "[3, 4]"
      ]
     },
     "execution_count": 13,
     "metadata": {},
     "output_type": "execute_result"
    }
   ],
   "source": [
    "# The `decision_thresholds` attribute contains a list of decision thresholds\n",
    "# for each consensus vector.\n",
    "consensus.decision_thresholds"
   ]
  },
  {
   "cell_type": "markdown",
   "id": "540e86ca",
   "metadata": {},
   "source": [
    "The algorithm also recommends a consensus vector (a data partitioning), this is probably related to stability defined below."
   ]
  },
  {
   "cell_type": "code",
   "execution_count": 14,
   "id": "67b728b3",
   "metadata": {},
   "outputs": [
    {
     "data": {
      "text/plain": [
       "0"
      ]
     },
     "execution_count": 14,
     "metadata": {},
     "output_type": "execute_result"
    }
   ],
   "source": [
    "# The `recommended` attribute contains the index of the recommended consensus\n",
    "# vector\n",
    "consensus.recommended"
   ]
  },
  {
   "cell_type": "code",
   "execution_count": 15,
   "id": "2c42674b",
   "metadata": {},
   "outputs": [
    {
     "data": {
      "text/plain": [
       "array([0, 0, 0, ..., 0, 0, 0])"
      ]
     },
     "execution_count": 15,
     "metadata": {},
     "output_type": "execute_result"
    }
   ],
   "source": [
    "# The `labels_` attribute contains the recommended consensus vector\n",
    "consensus.labels_"
   ]
  },
  {
   "cell_type": "markdown",
   "id": "48456fe8",
   "metadata": {},
   "source": [
    "Demonstrates the stability of the consensus vector, higher the values the better, the number represent the number of consective decision thresholds to successfully do consensus (bi-clustering - merging of partitions)."
   ]
  },
  {
   "cell_type": "code",
   "execution_count": 16,
   "id": "df333931",
   "metadata": {},
   "outputs": [
    {
     "data": {
      "text/plain": [
       "[3, 1]"
      ]
     },
     "execution_count": 16,
     "metadata": {},
     "output_type": "execute_result"
    }
   ],
   "source": [
    "# The `stability` attribute contains a list of stability values\n",
    "# for each consensus vector.\n",
    "consensus.stability"
   ]
  },
  {
   "cell_type": "markdown",
   "id": "2e4aa75b",
   "metadata": {},
   "source": [
    "Measure related to skewness of the resulting tree. Higher for a symetric tree (so called binary tree)."
   ]
  },
  {
   "cell_type": "code",
   "execution_count": 17,
   "id": "6fc8c2e6",
   "metadata": {},
   "outputs": [
    {
     "data": {
      "text/plain": [
       "0.5"
      ]
     },
     "execution_count": 17,
     "metadata": {},
     "output_type": "execute_result"
    }
   ],
   "source": [
    "# The `tree_quality` member contains a measure of the tree quality.\n",
    "# The measure ranges between 0 and 1. Higher is better.\n",
    "consensus.tree_quality"
   ]
  },
  {
   "cell_type": "code",
   "execution_count": 18,
   "id": "22ad0089",
   "metadata": {},
   "outputs": [
    {
     "data": {
      "text/plain": [
       "array([0.43562012, 0.24618215])"
      ]
     },
     "execution_count": 18,
     "metadata": {},
     "output_type": "execute_result"
    }
   ],
   "source": [
    "# The `ensemble_similarity` contains a list of ensemble similarity measures\n",
    "# for each consensus vector.\n",
    "# They are between 0 and 1. Higher is better.\n",
    "consensus.ensemble_similarity"
   ]
  },
  {
   "cell_type": "code",
   "execution_count": 25,
   "id": "e46a2eb9",
   "metadata": {},
   "outputs": [],
   "source": [
    "import os\n",
    "os.environ[\"PATH\"] += os.pathsep + \"C:/Program Files/Graphviz/bin\""
   ]
  },
  {
   "cell_type": "code",
   "execution_count": 26,
   "id": "37fa49e2",
   "metadata": {
    "scrolled": false
   },
   "outputs": [
    {
     "data": {
      "image/svg+xml": [
       "<?xml version=\"1.0\" encoding=\"UTF-8\" standalone=\"no\"?>\n",
       "<!DOCTYPE svg PUBLIC \"-//W3C//DTD SVG 1.1//EN\"\n",
       " \"http://www.w3.org/Graphics/SVG/1.1/DTD/svg11.dtd\">\n",
       "<!-- Generated by graphviz version 3.0.0 (20220226.1711)\n",
       " -->\n",
       "<!-- Pages: 1 -->\n",
       "<svg width=\"2238pt\" height=\"209pt\"\n",
       " viewBox=\"0.00 0.00 2237.95 209.00\" xmlns=\"http://www.w3.org/2000/svg\" xmlns:xlink=\"http://www.w3.org/1999/xlink\">\n",
       "<g id=\"graph0\" class=\"graph\" transform=\"scale(1 1) rotate(0) translate(4 205)\">\n",
       "<polygon fill=\"white\" stroke=\"transparent\" points=\"-4,4 -4,-205 2233.95,-205 2233.95,4 -4,4\"/>\n",
       "<text text-anchor=\"middle\" x=\"1114.97\" y=\"-185.8\" font-family=\"Times New Roman,serif\" font-size=\"14.00\">ConsTree</text>\n",
       "<text text-anchor=\"middle\" x=\"1114.97\" y=\"-170.8\" font-family=\"Times New Roman,serif\" font-size=\"14.00\">Tree Quality = 0.5</text>\n",
       "<g id=\"clust1\" class=\"cluster\">\n",
       "<title>cluster</title>\n",
       "<polygon fill=\"none\" stroke=\"black\" points=\"2031.95,-8 2031.95,-155 2221.95,-155 2221.95,-8 2031.95,-8\"/>\n",
       "<text text-anchor=\"middle\" x=\"2126.95\" y=\"-139.8\" font-family=\"Times New Roman,serif\" font-size=\"14.00\">Legend</text>\n",
       "</g>\n",
       "<!-- 00 -->\n",
       "<g id=\"node1\" class=\"node\">\n",
       "<title>00</title>\n",
       "<polygon fill=\"darkseagreen\" stroke=\"black\" points=\"1221.95,-124 573.95,-124 573.95,-88 1221.95,-88 1221.95,-124\"/>\n",
       "<text text-anchor=\"middle\" x=\"897.95\" y=\"-102.3\" font-family=\"Times New Roman,serif\" font-size=\"14.00\">3159</text>\n",
       "</g>\n",
       "<!-- 10 -->\n",
       "<g id=\"node3\" class=\"node\">\n",
       "<title>10</title>\n",
       "<ellipse fill=\"#b9d3ee\" stroke=\"black\" cx=\"14.95\" cy=\"-34\" rx=\"14.9\" ry=\"18\"/>\n",
       "<text text-anchor=\"middle\" x=\"14.95\" y=\"-30.3\" font-family=\"Times New Roman,serif\" font-size=\"14.00\">3</text>\n",
       "</g>\n",
       "<!-- 00&#45;&gt;10 -->\n",
       "<g id=\"edge1\" class=\"edge\">\n",
       "<title>00&#45;&gt;10</title>\n",
       "<path fill=\"none\" stroke=\"black\" d=\"M573.76,-103.29C372.74,-98.71 135.08,-85.89 38.95,-52 37.89,-51.63 36.83,-51.19 35.79,-50.71\"/>\n",
       "<polygon fill=\"black\" stroke=\"black\" points=\"37.3,-47.53 26.92,-45.42 33.72,-53.55 37.3,-47.53\"/>\n",
       "</g>\n",
       "<!-- 11 -->\n",
       "<g id=\"node4\" class=\"node\">\n",
       "<title>11</title>\n",
       "<ellipse fill=\"#b9d3ee\" stroke=\"black\" cx=\"62.95\" cy=\"-34\" rx=\"14.9\" ry=\"18\"/>\n",
       "<text text-anchor=\"middle\" x=\"62.95\" y=\"-30.3\" font-family=\"Times New Roman,serif\" font-size=\"14.00\">4</text>\n",
       "</g>\n",
       "<!-- 00&#45;&gt;11 -->\n",
       "<g id=\"edge2\" class=\"edge\">\n",
       "<title>00&#45;&gt;11</title>\n",
       "<path fill=\"none\" stroke=\"black\" d=\"M573.76,-101.66C388,-96.27 174.8,-83.15 86.95,-52 85.89,-51.62 84.84,-51.19 83.79,-50.7\"/>\n",
       "<polygon fill=\"black\" stroke=\"black\" points=\"85.3,-47.53 74.92,-45.41 81.72,-53.54 85.3,-47.53\"/>\n",
       "</g>\n",
       "<!-- 12 -->\n",
       "<g id=\"node5\" class=\"node\">\n",
       "<title>12</title>\n",
       "<ellipse fill=\"#b9d3ee\" stroke=\"black\" cx=\"110.95\" cy=\"-34\" rx=\"14.9\" ry=\"18\"/>\n",
       "<text text-anchor=\"middle\" x=\"110.95\" y=\"-30.3\" font-family=\"Times New Roman,serif\" font-size=\"14.00\">4</text>\n",
       "</g>\n",
       "<!-- 00&#45;&gt;12 -->\n",
       "<g id=\"edge3\" class=\"edge\">\n",
       "<title>00&#45;&gt;12</title>\n",
       "<path fill=\"none\" stroke=\"black\" d=\"M573.72,-99.83C403.69,-93.67 214.56,-80.41 134.95,-52 133.89,-51.62 132.84,-51.18 131.8,-50.7\"/>\n",
       "<polygon fill=\"black\" stroke=\"black\" points=\"133.3,-47.52 122.92,-45.4 129.72,-53.53 133.3,-47.52\"/>\n",
       "</g>\n",
       "<!-- 13 -->\n",
       "<g id=\"node6\" class=\"node\">\n",
       "<title>13</title>\n",
       "<ellipse fill=\"#b9d3ee\" stroke=\"black\" cx=\"158.95\" cy=\"-34\" rx=\"14.9\" ry=\"18\"/>\n",
       "<text text-anchor=\"middle\" x=\"158.95\" y=\"-30.3\" font-family=\"Times New Roman,serif\" font-size=\"14.00\">4</text>\n",
       "</g>\n",
       "<!-- 00&#45;&gt;13 -->\n",
       "<g id=\"edge4\" class=\"edge\">\n",
       "<title>00&#45;&gt;13</title>\n",
       "<path fill=\"none\" stroke=\"black\" d=\"M573.59,-97.73C419.79,-90.9 254.33,-77.66 182.95,-52 181.89,-51.62 180.84,-51.18 179.8,-50.69\"/>\n",
       "<polygon fill=\"black\" stroke=\"black\" points=\"181.31,-47.52 170.93,-45.39 177.72,-53.53 181.31,-47.52\"/>\n",
       "</g>\n",
       "<!-- 14 -->\n",
       "<g id=\"node7\" class=\"node\">\n",
       "<title>14</title>\n",
       "<ellipse fill=\"#b9d3ee\" stroke=\"black\" cx=\"206.95\" cy=\"-34\" rx=\"14.9\" ry=\"18\"/>\n",
       "<text text-anchor=\"middle\" x=\"206.95\" y=\"-30.3\" font-family=\"Times New Roman,serif\" font-size=\"14.00\">5</text>\n",
       "</g>\n",
       "<!-- 00&#45;&gt;14 -->\n",
       "<g id=\"edge5\" class=\"edge\">\n",
       "<title>00&#45;&gt;14</title>\n",
       "<path fill=\"none\" stroke=\"black\" d=\"M573.63,-95.34C436.56,-87.94 294.15,-74.91 230.95,-52 229.89,-51.62 228.84,-51.17 227.8,-50.69\"/>\n",
       "<polygon fill=\"black\" stroke=\"black\" points=\"229.31,-47.51 218.93,-45.38 225.71,-53.52 229.31,-47.51\"/>\n",
       "</g>\n",
       "<!-- 15 -->\n",
       "<g id=\"node8\" class=\"node\">\n",
       "<title>15</title>\n",
       "<ellipse fill=\"#b9d3ee\" stroke=\"black\" cx=\"254.95\" cy=\"-34\" rx=\"14.9\" ry=\"18\"/>\n",
       "<text text-anchor=\"middle\" x=\"254.95\" y=\"-30.3\" font-family=\"Times New Roman,serif\" font-size=\"14.00\">6</text>\n",
       "</g>\n",
       "<!-- 00&#45;&gt;15 -->\n",
       "<g id=\"edge6\" class=\"edge\">\n",
       "<title>00&#45;&gt;15</title>\n",
       "<path fill=\"none\" stroke=\"black\" d=\"M573.82,-92.57C454.01,-84.75 334.02,-72.16 278.95,-52 277.89,-51.61 276.84,-51.17 275.8,-50.68\"/>\n",
       "<polygon fill=\"black\" stroke=\"black\" points=\"277.31,-47.5 266.94,-45.36 273.71,-53.51 277.31,-47.5\"/>\n",
       "</g>\n",
       "<!-- 16 -->\n",
       "<g id=\"node9\" class=\"node\">\n",
       "<title>16</title>\n",
       "<ellipse fill=\"#b9d3ee\" stroke=\"black\" cx=\"302.95\" cy=\"-34\" rx=\"14.9\" ry=\"18\"/>\n",
       "<text text-anchor=\"middle\" x=\"302.95\" y=\"-30.3\" font-family=\"Times New Roman,serif\" font-size=\"14.00\">7</text>\n",
       "</g>\n",
       "<!-- 00&#45;&gt;16 -->\n",
       "<g id=\"edge7\" class=\"edge\">\n",
       "<title>00&#45;&gt;16</title>\n",
       "<path fill=\"none\" stroke=\"black\" d=\"M573.79,-89.31C471.95,-81.26 373.87,-69.36 326.95,-52 325.9,-51.61 324.85,-51.16 323.81,-50.67\"/>\n",
       "<polygon fill=\"black\" stroke=\"black\" points=\"325.32,-47.49 314.95,-45.34 321.71,-53.49 325.32,-47.49\"/>\n",
       "</g>\n",
       "<!-- 17 -->\n",
       "<g id=\"node10\" class=\"node\">\n",
       "<title>17</title>\n",
       "<ellipse fill=\"#b9d3ee\" stroke=\"black\" cx=\"350.95\" cy=\"-34\" rx=\"14.9\" ry=\"18\"/>\n",
       "<text text-anchor=\"middle\" x=\"350.95\" y=\"-30.3\" font-family=\"Times New Roman,serif\" font-size=\"14.00\">8</text>\n",
       "</g>\n",
       "<!-- 00&#45;&gt;17 -->\n",
       "<g id=\"edge8\" class=\"edge\">\n",
       "<title>00&#45;&gt;17</title>\n",
       "<path fill=\"none\" stroke=\"black\" d=\"M601.7,-87.97C508.17,-79.78 418,-68.14 374.95,-52 373.9,-51.61 372.85,-51.15 371.81,-50.66\"/>\n",
       "<polygon fill=\"black\" stroke=\"black\" points=\"373.33,-47.48 362.95,-45.32 369.71,-53.48 373.33,-47.48\"/>\n",
       "</g>\n",
       "<!-- 18 -->\n",
       "<g id=\"node11\" class=\"node\">\n",
       "<title>18</title>\n",
       "<ellipse fill=\"#b9d3ee\" stroke=\"black\" cx=\"398.95\" cy=\"-34\" rx=\"14.9\" ry=\"18\"/>\n",
       "<text text-anchor=\"middle\" x=\"398.95\" y=\"-30.3\" font-family=\"Times New Roman,serif\" font-size=\"14.00\">9</text>\n",
       "</g>\n",
       "<!-- 00&#45;&gt;18 -->\n",
       "<g id=\"edge9\" class=\"edge\">\n",
       "<title>00&#45;&gt;18</title>\n",
       "<path fill=\"none\" stroke=\"black\" d=\"M643.74,-88C553.6,-79.56 464.29,-67.74 422.95,-52 421.9,-51.6 420.85,-51.14 419.82,-50.64\"/>\n",
       "<polygon fill=\"black\" stroke=\"black\" points=\"421.33,-47.47 410.96,-45.29 417.71,-53.46 421.33,-47.47\"/>\n",
       "</g>\n",
       "<!-- 19 -->\n",
       "<g id=\"node12\" class=\"node\">\n",
       "<title>19</title>\n",
       "<ellipse fill=\"#b9d3ee\" stroke=\"black\" cx=\"446.95\" cy=\"-34\" rx=\"14.9\" ry=\"18\"/>\n",
       "<text text-anchor=\"middle\" x=\"446.95\" y=\"-30.3\" font-family=\"Times New Roman,serif\" font-size=\"14.00\">9</text>\n",
       "</g>\n",
       "<!-- 00&#45;&gt;19 -->\n",
       "<g id=\"edge10\" class=\"edge\">\n",
       "<title>00&#45;&gt;19</title>\n",
       "<path fill=\"none\" stroke=\"black\" d=\"M682.22,-87.97C596.94,-79.21 510.04,-67.16 470.95,-52 469.9,-51.59 468.86,-51.13 467.82,-50.63\"/>\n",
       "<polygon fill=\"black\" stroke=\"black\" points=\"469.34,-47.46 458.98,-45.26 465.71,-53.44 469.34,-47.46\"/>\n",
       "</g>\n",
       "<!-- 110 -->\n",
       "<g id=\"node13\" class=\"node\">\n",
       "<title>110</title>\n",
       "<ellipse fill=\"#b9d3ee\" stroke=\"black\" cx=\"498.95\" cy=\"-34\" rx=\"19.5\" ry=\"18\"/>\n",
       "<text text-anchor=\"middle\" x=\"498.95\" y=\"-30.3\" font-family=\"Times New Roman,serif\" font-size=\"14.00\">10</text>\n",
       "</g>\n",
       "<!-- 00&#45;&gt;110 -->\n",
       "<g id=\"edge11\" class=\"edge\">\n",
       "<title>00&#45;&gt;110</title>\n",
       "<path fill=\"none\" stroke=\"black\" d=\"M679.36,-87.98C628.74,-80.14 575.73,-68.7 527.95,-52 526.5,-51.49 525.05,-50.91 523.6,-50.28\"/>\n",
       "<polygon fill=\"black\" stroke=\"black\" points=\"524.86,-46.99 514.36,-45.52 521.65,-53.21 524.86,-46.99\"/>\n",
       "</g>\n",
       "<!-- 111 -->\n",
       "<g id=\"node14\" class=\"node\">\n",
       "<title>111</title>\n",
       "<ellipse fill=\"#b9d3ee\" stroke=\"black\" cx=\"555.95\" cy=\"-34\" rx=\"19.5\" ry=\"18\"/>\n",
       "<text text-anchor=\"middle\" x=\"555.95\" y=\"-30.3\" font-family=\"Times New Roman,serif\" font-size=\"14.00\">10</text>\n",
       "</g>\n",
       "<!-- 00&#45;&gt;111 -->\n",
       "<g id=\"edge12\" class=\"edge\">\n",
       "<title>00&#45;&gt;111</title>\n",
       "<path fill=\"none\" stroke=\"black\" d=\"M729.77,-87.98C682.04,-80.09 630.65,-68.63 584.95,-52 583.51,-51.48 582.06,-50.88 580.62,-50.23\"/>\n",
       "<polygon fill=\"black\" stroke=\"black\" points=\"581.88,-46.95 571.39,-45.44 578.65,-53.16 581.88,-46.95\"/>\n",
       "</g>\n",
       "<!-- 112 -->\n",
       "<g id=\"node15\" class=\"node\">\n",
       "<title>112</title>\n",
       "<ellipse fill=\"#b9d3ee\" stroke=\"black\" cx=\"612.95\" cy=\"-34\" rx=\"19.5\" ry=\"18\"/>\n",
       "<text text-anchor=\"middle\" x=\"612.95\" y=\"-30.3\" font-family=\"Times New Roman,serif\" font-size=\"14.00\">10</text>\n",
       "</g>\n",
       "<!-- 00&#45;&gt;112 -->\n",
       "<g id=\"edge13\" class=\"edge\">\n",
       "<title>00&#45;&gt;112</title>\n",
       "<path fill=\"none\" stroke=\"black\" d=\"M775.16,-87.97C732.16,-79.83 684.1,-68.21 641.95,-52 640.52,-51.45 639.08,-50.83 637.64,-50.17\"/>\n",
       "<polygon fill=\"black\" stroke=\"black\" points=\"638.91,-46.89 628.43,-45.33 635.65,-53.08 638.91,-46.89\"/>\n",
       "</g>\n",
       "<!-- 113 -->\n",
       "<g id=\"node16\" class=\"node\">\n",
       "<title>113</title>\n",
       "<ellipse fill=\"#b9d3ee\" stroke=\"black\" cx=\"669.95\" cy=\"-34\" rx=\"19.5\" ry=\"18\"/>\n",
       "<text text-anchor=\"middle\" x=\"669.95\" y=\"-30.3\" font-family=\"Times New Roman,serif\" font-size=\"14.00\">13</text>\n",
       "</g>\n",
       "<!-- 00&#45;&gt;113 -->\n",
       "<g id=\"edge14\" class=\"edge\">\n",
       "<title>00&#45;&gt;113</title>\n",
       "<path fill=\"none\" stroke=\"black\" d=\"M813.99,-87.96C777.85,-79.27 735.57,-67.28 698.95,-52 697.53,-51.41 696.11,-50.76 694.68,-50.08\"/>\n",
       "<polygon fill=\"black\" stroke=\"black\" points=\"695.97,-46.8 685.5,-45.15 692.66,-52.96 695.97,-46.8\"/>\n",
       "</g>\n",
       "<!-- 114 -->\n",
       "<g id=\"node17\" class=\"node\">\n",
       "<title>114</title>\n",
       "<ellipse fill=\"#b9d3ee\" stroke=\"black\" cx=\"726.95\" cy=\"-34\" rx=\"19.5\" ry=\"18\"/>\n",
       "<text text-anchor=\"middle\" x=\"726.95\" y=\"-30.3\" font-family=\"Times New Roman,serif\" font-size=\"14.00\">18</text>\n",
       "</g>\n",
       "<!-- 00&#45;&gt;114 -->\n",
       "<g id=\"edge15\" class=\"edge\">\n",
       "<title>00&#45;&gt;114</title>\n",
       "<path fill=\"none\" stroke=\"black\" d=\"M845.79,-87.97C818.55,-78.46 784.94,-65.78 755.95,-52 754.57,-51.34 753.16,-50.64 751.75,-49.91\"/>\n",
       "<polygon fill=\"black\" stroke=\"black\" points=\"753.08,-46.64 742.63,-44.86 749.69,-52.77 753.08,-46.64\"/>\n",
       "</g>\n",
       "<!-- 115 -->\n",
       "<g id=\"node18\" class=\"node\">\n",
       "<title>115</title>\n",
       "<ellipse fill=\"#b9d3ee\" stroke=\"black\" cx=\"783.95\" cy=\"-34\" rx=\"19.5\" ry=\"18\"/>\n",
       "<text text-anchor=\"middle\" x=\"783.95\" y=\"-30.3\" font-family=\"Times New Roman,serif\" font-size=\"14.00\">19</text>\n",
       "</g>\n",
       "<!-- 00&#45;&gt;115 -->\n",
       "<g id=\"edge16\" class=\"edge\">\n",
       "<title>00&#45;&gt;115</title>\n",
       "<path fill=\"none\" stroke=\"black\" d=\"M870.06,-87.88C851.31,-76.36 826.82,-61.32 808.75,-50.23\"/>\n",
       "<polygon fill=\"black\" stroke=\"black\" points=\"810.31,-47.08 799.95,-44.83 806.64,-53.04 810.31,-47.08\"/>\n",
       "</g>\n",
       "<!-- 116 -->\n",
       "<g id=\"node19\" class=\"node\">\n",
       "<title>116</title>\n",
       "<ellipse fill=\"#b9d3ee\" stroke=\"black\" cx=\"840.95\" cy=\"-34\" rx=\"19.5\" ry=\"18\"/>\n",
       "<text text-anchor=\"middle\" x=\"840.95\" y=\"-30.3\" font-family=\"Times New Roman,serif\" font-size=\"14.00\">27</text>\n",
       "</g>\n",
       "<!-- 00&#45;&gt;116 -->\n",
       "<g id=\"edge17\" class=\"edge\">\n",
       "<title>00&#45;&gt;116</title>\n",
       "<path fill=\"none\" stroke=\"black\" d=\"M883.86,-87.7C876.24,-78.33 866.74,-66.68 858.63,-56.71\"/>\n",
       "<polygon fill=\"black\" stroke=\"black\" points=\"861.23,-54.37 852.21,-48.82 855.81,-58.79 861.23,-54.37\"/>\n",
       "</g>\n",
       "<!-- 117 -->\n",
       "<g id=\"node20\" class=\"node\">\n",
       "<title>117</title>\n",
       "<ellipse fill=\"#b9d3ee\" stroke=\"black\" cx=\"897.95\" cy=\"-34\" rx=\"19.5\" ry=\"18\"/>\n",
       "<text text-anchor=\"middle\" x=\"897.95\" y=\"-30.3\" font-family=\"Times New Roman,serif\" font-size=\"14.00\">31</text>\n",
       "</g>\n",
       "<!-- 00&#45;&gt;117 -->\n",
       "<g id=\"edge18\" class=\"edge\">\n",
       "<title>00&#45;&gt;117</title>\n",
       "<path fill=\"none\" stroke=\"black\" d=\"M897.95,-87.7C897.95,-79.98 897.95,-70.71 897.95,-62.11\"/>\n",
       "<polygon fill=\"black\" stroke=\"black\" points=\"901.45,-62.1 897.95,-52.1 894.45,-62.1 901.45,-62.1\"/>\n",
       "</g>\n",
       "<!-- 118 -->\n",
       "<g id=\"node21\" class=\"node\">\n",
       "<title>118</title>\n",
       "<ellipse fill=\"#b9d3ee\" stroke=\"black\" cx=\"954.95\" cy=\"-34\" rx=\"19.5\" ry=\"18\"/>\n",
       "<text text-anchor=\"middle\" x=\"954.95\" y=\"-30.3\" font-family=\"Times New Roman,serif\" font-size=\"14.00\">37</text>\n",
       "</g>\n",
       "<!-- 00&#45;&gt;118 -->\n",
       "<g id=\"edge19\" class=\"edge\">\n",
       "<title>00&#45;&gt;118</title>\n",
       "<path fill=\"none\" stroke=\"black\" d=\"M912.04,-87.7C919.66,-78.33 929.15,-66.68 937.27,-56.71\"/>\n",
       "<polygon fill=\"black\" stroke=\"black\" points=\"940.09,-58.79 943.69,-48.82 934.66,-54.37 940.09,-58.79\"/>\n",
       "</g>\n",
       "<!-- 119 -->\n",
       "<g id=\"node22\" class=\"node\">\n",
       "<title>119</title>\n",
       "<ellipse fill=\"#b9d3ee\" stroke=\"black\" cx=\"1011.95\" cy=\"-34\" rx=\"19.5\" ry=\"18\"/>\n",
       "<text text-anchor=\"middle\" x=\"1011.95\" y=\"-30.3\" font-family=\"Times New Roman,serif\" font-size=\"14.00\">40</text>\n",
       "</g>\n",
       "<!-- 00&#45;&gt;119 -->\n",
       "<g id=\"edge20\" class=\"edge\">\n",
       "<title>00&#45;&gt;119</title>\n",
       "<path fill=\"none\" stroke=\"black\" d=\"M925.84,-87.88C944.58,-76.36 969.08,-61.32 987.15,-50.23\"/>\n",
       "<polygon fill=\"black\" stroke=\"black\" points=\"989.25,-53.04 995.94,-44.83 985.59,-47.08 989.25,-53.04\"/>\n",
       "</g>\n",
       "<!-- 120 -->\n",
       "<g id=\"node23\" class=\"node\">\n",
       "<title>120</title>\n",
       "<ellipse fill=\"#b9d3ee\" stroke=\"black\" cx=\"1068.95\" cy=\"-34\" rx=\"19.5\" ry=\"18\"/>\n",
       "<text text-anchor=\"middle\" x=\"1068.95\" y=\"-30.3\" font-family=\"Times New Roman,serif\" font-size=\"14.00\">41</text>\n",
       "</g>\n",
       "<!-- 00&#45;&gt;120 -->\n",
       "<g id=\"edge21\" class=\"edge\">\n",
       "<title>00&#45;&gt;120</title>\n",
       "<path fill=\"none\" stroke=\"black\" d=\"M950.11,-87.97C977.35,-78.46 1010.95,-65.78 1039.95,-52 1041.33,-51.34 1042.74,-50.64 1044.14,-49.91\"/>\n",
       "<polygon fill=\"black\" stroke=\"black\" points=\"1046.21,-52.77 1053.26,-44.86 1042.82,-46.64 1046.21,-52.77\"/>\n",
       "</g>\n",
       "<!-- 121 -->\n",
       "<g id=\"node24\" class=\"node\">\n",
       "<title>121</title>\n",
       "<ellipse fill=\"#b9d3ee\" stroke=\"black\" cx=\"1125.95\" cy=\"-34\" rx=\"19.5\" ry=\"18\"/>\n",
       "<text text-anchor=\"middle\" x=\"1125.95\" y=\"-30.3\" font-family=\"Times New Roman,serif\" font-size=\"14.00\">41</text>\n",
       "</g>\n",
       "<!-- 00&#45;&gt;121 -->\n",
       "<g id=\"edge22\" class=\"edge\">\n",
       "<title>00&#45;&gt;121</title>\n",
       "<path fill=\"none\" stroke=\"black\" d=\"M981.9,-87.96C1018.05,-79.27 1060.32,-67.28 1096.95,-52 1098.36,-51.41 1099.79,-50.76 1101.22,-50.08\"/>\n",
       "<polygon fill=\"black\" stroke=\"black\" points=\"1103.24,-52.96 1110.39,-45.15 1099.93,-46.8 1103.24,-52.96\"/>\n",
       "</g>\n",
       "<!-- 122 -->\n",
       "<g id=\"node25\" class=\"node\">\n",
       "<title>122</title>\n",
       "<ellipse fill=\"#b9d3ee\" stroke=\"black\" cx=\"1182.95\" cy=\"-34\" rx=\"19.5\" ry=\"18\"/>\n",
       "<text text-anchor=\"middle\" x=\"1182.95\" y=\"-30.3\" font-family=\"Times New Roman,serif\" font-size=\"14.00\">44</text>\n",
       "</g>\n",
       "<!-- 00&#45;&gt;122 -->\n",
       "<g id=\"edge23\" class=\"edge\">\n",
       "<title>00&#45;&gt;122</title>\n",
       "<path fill=\"none\" stroke=\"black\" d=\"M1020.74,-87.97C1063.74,-79.83 1111.8,-68.21 1153.95,-52 1155.38,-51.45 1156.82,-50.83 1158.26,-50.17\"/>\n",
       "<polygon fill=\"black\" stroke=\"black\" points=\"1160.24,-53.08 1167.46,-45.33 1156.98,-46.89 1160.24,-53.08\"/>\n",
       "</g>\n",
       "<!-- 123 -->\n",
       "<g id=\"node26\" class=\"node\">\n",
       "<title>123</title>\n",
       "<ellipse fill=\"#b9d3ee\" stroke=\"black\" cx=\"1239.95\" cy=\"-34\" rx=\"19.5\" ry=\"18\"/>\n",
       "<text text-anchor=\"middle\" x=\"1239.95\" y=\"-30.3\" font-family=\"Times New Roman,serif\" font-size=\"14.00\">62</text>\n",
       "</g>\n",
       "<!-- 00&#45;&gt;123 -->\n",
       "<g id=\"edge24\" class=\"edge\">\n",
       "<title>00&#45;&gt;123</title>\n",
       "<path fill=\"none\" stroke=\"black\" d=\"M1066.13,-87.98C1113.85,-80.09 1165.24,-68.63 1210.95,-52 1212.39,-51.48 1213.84,-50.88 1215.28,-50.23\"/>\n",
       "<polygon fill=\"black\" stroke=\"black\" points=\"1217.25,-53.16 1224.51,-45.44 1214.02,-46.95 1217.25,-53.16\"/>\n",
       "</g>\n",
       "<!-- 124 -->\n",
       "<g id=\"node27\" class=\"node\">\n",
       "<title>124</title>\n",
       "<ellipse fill=\"#b9d3ee\" stroke=\"black\" cx=\"1296.95\" cy=\"-34\" rx=\"19.5\" ry=\"18\"/>\n",
       "<text text-anchor=\"middle\" x=\"1296.95\" y=\"-30.3\" font-family=\"Times New Roman,serif\" font-size=\"14.00\">67</text>\n",
       "</g>\n",
       "<!-- 00&#45;&gt;124 -->\n",
       "<g id=\"edge25\" class=\"edge\">\n",
       "<title>00&#45;&gt;124</title>\n",
       "<path fill=\"none\" stroke=\"black\" d=\"M1116.53,-87.98C1167.15,-80.14 1220.17,-68.7 1267.95,-52 1269.39,-51.49 1270.85,-50.91 1272.3,-50.28\"/>\n",
       "<polygon fill=\"black\" stroke=\"black\" points=\"1274.25,-53.21 1281.53,-45.52 1271.04,-46.99 1274.25,-53.21\"/>\n",
       "</g>\n",
       "<!-- 125 -->\n",
       "<g id=\"node28\" class=\"node\">\n",
       "<title>125</title>\n",
       "<ellipse fill=\"#b9d3ee\" stroke=\"black\" cx=\"1353.95\" cy=\"-34\" rx=\"19.5\" ry=\"18\"/>\n",
       "<text text-anchor=\"middle\" x=\"1353.95\" y=\"-30.3\" font-family=\"Times New Roman,serif\" font-size=\"14.00\">80</text>\n",
       "</g>\n",
       "<!-- 00&#45;&gt;125 -->\n",
       "<g id=\"edge26\" class=\"edge\">\n",
       "<title>00&#45;&gt;125</title>\n",
       "<path fill=\"none\" stroke=\"black\" d=\"M1170.47,-87.97C1222.61,-80.03 1276.13,-68.55 1324.95,-52 1326.58,-51.45 1328.23,-50.79 1329.85,-50.07\"/>\n",
       "<polygon fill=\"black\" stroke=\"black\" points=\"1331.59,-53.11 1338.86,-45.4 1328.37,-46.9 1331.59,-53.11\"/>\n",
       "</g>\n",
       "<!-- 126 -->\n",
       "<g id=\"node29\" class=\"node\">\n",
       "<title>126</title>\n",
       "<ellipse fill=\"#b9d3ee\" stroke=\"black\" cx=\"1410.95\" cy=\"-34\" rx=\"19.5\" ry=\"18\"/>\n",
       "<text text-anchor=\"middle\" x=\"1410.95\" y=\"-30.3\" font-family=\"Times New Roman,serif\" font-size=\"14.00\">86</text>\n",
       "</g>\n",
       "<!-- 00&#45;&gt;126 -->\n",
       "<g id=\"edge27\" class=\"edge\">\n",
       "<title>00&#45;&gt;126</title>\n",
       "<path fill=\"none\" stroke=\"black\" d=\"M1138.88,-88C1236.33,-79.17 1336.46,-67.06 1381.95,-52 1383.59,-51.46 1385.23,-50.81 1386.86,-50.1\"/>\n",
       "<polygon fill=\"black\" stroke=\"black\" points=\"1388.59,-53.15 1395.87,-45.45 1385.38,-46.93 1388.59,-53.15\"/>\n",
       "</g>\n",
       "<!-- 127 -->\n",
       "<g id=\"node30\" class=\"node\">\n",
       "<title>127</title>\n",
       "<ellipse fill=\"#b9d3ee\" stroke=\"black\" cx=\"1467.95\" cy=\"-34\" rx=\"19.5\" ry=\"18\"/>\n",
       "<text text-anchor=\"middle\" x=\"1467.95\" y=\"-30.3\" font-family=\"Times New Roman,serif\" font-size=\"14.00\">92</text>\n",
       "</g>\n",
       "<!-- 00&#45;&gt;127 -->\n",
       "<g id=\"edge28\" class=\"edge\">\n",
       "<title>00&#45;&gt;127</title>\n",
       "<path fill=\"none\" stroke=\"black\" d=\"M1184.53,-87.97C1287.82,-79.49 1390.76,-67.65 1438.95,-52 1440.59,-51.47 1442.24,-50.83 1443.87,-50.12\"/>\n",
       "<polygon fill=\"black\" stroke=\"black\" points=\"1445.59,-53.17 1452.88,-45.48 1442.39,-46.95 1445.59,-53.17\"/>\n",
       "</g>\n",
       "<!-- 128 -->\n",
       "<g id=\"node31\" class=\"node\">\n",
       "<title>128</title>\n",
       "<ellipse fill=\"#b9d3ee\" stroke=\"black\" cx=\"1529.95\" cy=\"-34\" rx=\"24.1\" ry=\"18\"/>\n",
       "<text text-anchor=\"middle\" x=\"1529.95\" y=\"-30.3\" font-family=\"Times New Roman,serif\" font-size=\"14.00\">104</text>\n",
       "</g>\n",
       "<!-- 00&#45;&gt;128 -->\n",
       "<g id=\"edge29\" class=\"edge\">\n",
       "<title>00&#45;&gt;128</title>\n",
       "<path fill=\"none\" stroke=\"black\" d=\"M1208.57,-87.99C1324.5,-79.41 1441.23,-67.5 1495.95,-52 1497.9,-51.45 1499.88,-50.78 1501.84,-50.04\"/>\n",
       "<polygon fill=\"black\" stroke=\"black\" points=\"1503.65,-53.07 1511.4,-45.84 1500.83,-46.66 1503.65,-53.07\"/>\n",
       "</g>\n",
       "<!-- 129 -->\n",
       "<g id=\"node32\" class=\"node\">\n",
       "<title>129</title>\n",
       "<ellipse fill=\"#b9d3ee\" stroke=\"black\" cx=\"1595.95\" cy=\"-34\" rx=\"24.1\" ry=\"18\"/>\n",
       "<text text-anchor=\"middle\" x=\"1595.95\" y=\"-30.3\" font-family=\"Times New Roman,serif\" font-size=\"14.00\">223</text>\n",
       "</g>\n",
       "<!-- 00&#45;&gt;129 -->\n",
       "<g id=\"edge30\" class=\"edge\">\n",
       "<title>00&#45;&gt;129</title>\n",
       "<path fill=\"none\" stroke=\"black\" d=\"M1222.2,-91.11C1357.9,-82.83 1498.83,-70.27 1562.95,-52 1564.65,-51.51 1566.37,-50.94 1568.08,-50.29\"/>\n",
       "<polygon fill=\"black\" stroke=\"black\" points=\"1569.91,-53.31 1577.63,-46.05 1567.07,-46.91 1569.91,-53.31\"/>\n",
       "</g>\n",
       "<!-- 130 -->\n",
       "<g id=\"node33\" class=\"node\">\n",
       "<title>130</title>\n",
       "<ellipse fill=\"#b9d3ee\" stroke=\"black\" cx=\"1661.95\" cy=\"-34\" rx=\"24.1\" ry=\"18\"/>\n",
       "<text text-anchor=\"middle\" x=\"1661.95\" y=\"-30.3\" font-family=\"Times New Roman,serif\" font-size=\"14.00\">249</text>\n",
       "</g>\n",
       "<!-- 00&#45;&gt;130 -->\n",
       "<g id=\"edge31\" class=\"edge\">\n",
       "<title>00&#45;&gt;130</title>\n",
       "<path fill=\"none\" stroke=\"black\" d=\"M1222.41,-94.17C1380.87,-86.32 1553.38,-73.24 1628.95,-52 1630.65,-51.52 1632.38,-50.95 1634.09,-50.31\"/>\n",
       "<polygon fill=\"black\" stroke=\"black\" points=\"1635.91,-53.33 1643.64,-46.08 1633.08,-46.93 1635.91,-53.33\"/>\n",
       "</g>\n",
       "<!-- 131 -->\n",
       "<g id=\"node34\" class=\"node\">\n",
       "<title>131</title>\n",
       "<ellipse fill=\"#b9d3ee\" stroke=\"black\" cx=\"1727.95\" cy=\"-34\" rx=\"24.1\" ry=\"18\"/>\n",
       "<text text-anchor=\"middle\" x=\"1727.95\" y=\"-30.3\" font-family=\"Times New Roman,serif\" font-size=\"14.00\">311</text>\n",
       "</g>\n",
       "<!-- 00&#45;&gt;131 -->\n",
       "<g id=\"edge32\" class=\"edge\">\n",
       "<title>00&#45;&gt;131</title>\n",
       "<path fill=\"none\" stroke=\"black\" d=\"M1222.18,-96.73C1402.56,-89.51 1607.81,-76.21 1694.95,-52 1696.66,-51.53 1698.38,-50.96 1700.09,-50.32\"/>\n",
       "<polygon fill=\"black\" stroke=\"black\" points=\"1701.91,-53.34 1709.65,-46.1 1699.08,-46.94 1701.91,-53.34\"/>\n",
       "</g>\n",
       "<!-- 132 -->\n",
       "<g id=\"node35\" class=\"node\">\n",
       "<title>132</title>\n",
       "<ellipse fill=\"#b9d3ee\" stroke=\"black\" cx=\"1805.95\" cy=\"-34\" rx=\"36\" ry=\"18\"/>\n",
       "<text text-anchor=\"middle\" x=\"1805.95\" y=\"-30.3\" font-family=\"Times New Roman,serif\" font-size=\"14.00\">454</text>\n",
       "</g>\n",
       "<!-- 00&#45;&gt;132 -->\n",
       "<g id=\"edge33\" class=\"edge\">\n",
       "<title>00&#45;&gt;132</title>\n",
       "<path fill=\"none\" stroke=\"black\" d=\"M1222.15,-95.14C1422.95,-87.08 1660.96,-73.44 1760.95,-52 1763.95,-51.36 1767.03,-50.54 1770.08,-49.63\"/>\n",
       "<polygon fill=\"black\" stroke=\"black\" points=\"1771.32,-52.91 1779.7,-46.42 1769.1,-46.27 1771.32,-52.91\"/>\n",
       "</g>\n",
       "<!-- 133 -->\n",
       "<g id=\"node36\" class=\"node\">\n",
       "<title>133</title>\n",
       "<ellipse fill=\"#b9d3ee\" stroke=\"black\" cx=\"1895.95\" cy=\"-34\" rx=\"36\" ry=\"18\"/>\n",
       "<text text-anchor=\"middle\" x=\"1895.95\" y=\"-30.3\" font-family=\"Times New Roman,serif\" font-size=\"14.00\">484</text>\n",
       "</g>\n",
       "<!-- 00&#45;&gt;133 -->\n",
       "<g id=\"edge34\" class=\"edge\">\n",
       "<title>00&#45;&gt;133</title>\n",
       "<path fill=\"none\" stroke=\"black\" d=\"M1222.12,-97.5C1450.26,-90.22 1734.83,-76.55 1850.95,-52 1853.96,-51.36 1857.03,-50.56 1860.09,-49.65\"/>\n",
       "<polygon fill=\"black\" stroke=\"black\" points=\"1861.32,-52.93 1869.7,-46.45 1859.11,-46.28 1861.32,-52.93\"/>\n",
       "</g>\n",
       "<!-- 134 -->\n",
       "<g id=\"node37\" class=\"node\">\n",
       "<title>134</title>\n",
       "<ellipse fill=\"#b9d3ee\" stroke=\"black\" cx=\"1985.95\" cy=\"-34\" rx=\"36\" ry=\"18\"/>\n",
       "<text text-anchor=\"middle\" x=\"1985.95\" y=\"-30.3\" font-family=\"Times New Roman,serif\" font-size=\"14.00\">547</text>\n",
       "</g>\n",
       "<!-- 00&#45;&gt;134 -->\n",
       "<g id=\"edge35\" class=\"edge\">\n",
       "<title>00&#45;&gt;134</title>\n",
       "<path fill=\"none\" stroke=\"black\" d=\"M1222.01,-99.47C1476.26,-93.08 1808.56,-79.66 1940.95,-52 1943.96,-51.37 1947.03,-50.57 1950.09,-49.66\"/>\n",
       "<polygon fill=\"black\" stroke=\"black\" points=\"1951.32,-52.94 1959.71,-46.47 1949.11,-46.3 1951.32,-52.94\"/>\n",
       "</g>\n",
       "<!-- legend_0 -->\n",
       "<g id=\"node2\" class=\"node\">\n",
       "<title>legend_0</title>\n",
       "<polygon fill=\"darkseagreen\" stroke=\"black\" points=\"2213.95,-124 2039.95,-124 2039.95,-88 2213.95,-88 2213.95,-124\"/>\n",
       "<text text-anchor=\"middle\" x=\"2126.95\" y=\"-102.3\" font-family=\"Times New Roman,serif\" font-size=\"14.00\">DT=3 ST=3 Similarity=0.44</text>\n",
       "</g>\n",
       "<!-- legend_1 -->\n",
       "<g id=\"node38\" class=\"node\">\n",
       "<title>legend_1</title>\n",
       "<polygon fill=\"#b9d3ee\" stroke=\"black\" points=\"2213.95,-52 2039.95,-52 2039.95,-16 2213.95,-16 2213.95,-52\"/>\n",
       "<text text-anchor=\"middle\" x=\"2126.95\" y=\"-30.3\" font-family=\"Times New Roman,serif\" font-size=\"14.00\">DT=4 ST=1 Similarity=0.25</text>\n",
       "</g>\n",
       "<!-- legend_0&#45;&gt;legend_1 -->\n",
       "<g id=\"edge36\" class=\"edge\">\n",
       "<title>legend_0&#45;&gt;legend_1</title>\n",
       "<path fill=\"none\" stroke=\"black\" d=\"M2126.95,-87.7C2126.95,-79.98 2126.95,-70.71 2126.95,-62.11\"/>\n",
       "<polygon fill=\"black\" stroke=\"black\" points=\"2130.45,-62.1 2126.95,-52.1 2123.45,-62.1 2130.45,-62.1\"/>\n",
       "</g>\n",
       "</g>\n",
       "</svg>\n"
      ],
      "text/plain": [
       "<graphviz.graphs.Digraph at 0x22109909400>"
      ]
     },
     "execution_count": 26,
     "metadata": {},
     "output_type": "execute_result"
    }
   ],
   "source": [
    "# %% [markdown]\n",
    "# **Finally, let's visualize the consenus candidates using the ConsTree method:**\n",
    "\n",
    "# %%\n",
    "cons_tree = consensus.cons_tree()\n",
    "cons_tree"
   ]
  },
  {
   "cell_type": "code",
   "execution_count": 27,
   "id": "f3779619",
   "metadata": {},
   "outputs": [
    {
     "data": {
      "text/plain": [
       "'StudentInfoConsTree.svg'"
      ]
     },
     "execution_count": 27,
     "metadata": {},
     "output_type": "execute_result"
    }
   ],
   "source": [
    "# %%\n",
    "# Save the ConsTree graph to a file\n",
    "cons_tree.render(outfile=f\"./StudentInfoConsTree.svg\", cleanup=True)"
   ]
  },
  {
   "cell_type": "code",
   "execution_count": 28,
   "id": "0325204f",
   "metadata": {},
   "outputs": [
    {
     "data": {
      "text/plain": [
       "Pass           12361\n",
       "Withdrawn      10156\n",
       "Fail            7052\n",
       "Distinction     3024\n",
       "Name: final_result, dtype: int64"
      ]
     },
     "execution_count": 28,
     "metadata": {},
     "output_type": "execute_result"
    }
   ],
   "source": [
    "studentInfo_df['final_result'].value_counts()"
   ]
  },
  {
   "cell_type": "markdown",
   "id": "e013ff8d",
   "metadata": {},
   "source": [
    "Plot a scatter plot for the correlated variables observed in the correlation matrix, 'studied credits' to 'final result'."
   ]
  },
  {
   "cell_type": "code",
   "execution_count": 29,
   "id": "b420e911",
   "metadata": {},
   "outputs": [
    {
     "data": {
      "text/html": [
       "<div>\n",
       "<style scoped>\n",
       "    .dataframe tbody tr th:only-of-type {\n",
       "        vertical-align: middle;\n",
       "    }\n",
       "\n",
       "    .dataframe tbody tr th {\n",
       "        vertical-align: top;\n",
       "    }\n",
       "\n",
       "    .dataframe thead th {\n",
       "        text-align: right;\n",
       "    }\n",
       "</style>\n",
       "<table border=\"1\" class=\"dataframe\">\n",
       "  <thead>\n",
       "    <tr style=\"text-align: right;\">\n",
       "      <th></th>\n",
       "      <th>id_student</th>\n",
       "      <th>gender</th>\n",
       "      <th>region</th>\n",
       "      <th>highest_education</th>\n",
       "      <th>imd_band</th>\n",
       "      <th>age_band</th>\n",
       "      <th>num_of_prev_attempts</th>\n",
       "      <th>studied_credits</th>\n",
       "      <th>disability</th>\n",
       "      <th>final_result</th>\n",
       "    </tr>\n",
       "  </thead>\n",
       "  <tbody>\n",
       "    <tr>\n",
       "      <th>19427</th>\n",
       "      <td>246060</td>\n",
       "      <td>1</td>\n",
       "      <td>11</td>\n",
       "      <td>2</td>\n",
       "      <td>6</td>\n",
       "      <td>0</td>\n",
       "      <td>0</td>\n",
       "      <td>120</td>\n",
       "      <td>0</td>\n",
       "      <td>0</td>\n",
       "    </tr>\n",
       "    <tr>\n",
       "      <th>12095</th>\n",
       "      <td>634552</td>\n",
       "      <td>1</td>\n",
       "      <td>7</td>\n",
       "      <td>0</td>\n",
       "      <td>8</td>\n",
       "      <td>0</td>\n",
       "      <td>0</td>\n",
       "      <td>60</td>\n",
       "      <td>0</td>\n",
       "      <td>2</td>\n",
       "    </tr>\n",
       "    <tr>\n",
       "      <th>2998</th>\n",
       "      <td>487681</td>\n",
       "      <td>0</td>\n",
       "      <td>10</td>\n",
       "      <td>2</td>\n",
       "      <td>0</td>\n",
       "      <td>0</td>\n",
       "      <td>0</td>\n",
       "      <td>60</td>\n",
       "      <td>0</td>\n",
       "      <td>2</td>\n",
       "    </tr>\n",
       "    <tr>\n",
       "      <th>7599</th>\n",
       "      <td>652851</td>\n",
       "      <td>0</td>\n",
       "      <td>5</td>\n",
       "      <td>2</td>\n",
       "      <td>0</td>\n",
       "      <td>0</td>\n",
       "      <td>0</td>\n",
       "      <td>60</td>\n",
       "      <td>0</td>\n",
       "      <td>2</td>\n",
       "    </tr>\n",
       "    <tr>\n",
       "      <th>123</th>\n",
       "      <td>290757</td>\n",
       "      <td>1</td>\n",
       "      <td>5</td>\n",
       "      <td>0</td>\n",
       "      <td>3</td>\n",
       "      <td>0</td>\n",
       "      <td>0</td>\n",
       "      <td>60</td>\n",
       "      <td>0</td>\n",
       "      <td>2</td>\n",
       "    </tr>\n",
       "  </tbody>\n",
       "</table>\n",
       "</div>"
      ],
      "text/plain": [
       "       id_student  gender  region  highest_education  imd_band  age_band  \\\n",
       "19427      246060       1      11                  2         6         0   \n",
       "12095      634552       1       7                  0         8         0   \n",
       "2998       487681       0      10                  2         0         0   \n",
       "7599       652851       0       5                  2         0         0   \n",
       "123        290757       1       5                  0         3         0   \n",
       "\n",
       "       num_of_prev_attempts  studied_credits  disability  final_result  \n",
       "19427                     0              120           0             0  \n",
       "12095                     0               60           0             2  \n",
       "2998                      0               60           0             2  \n",
       "7599                      0               60           0             2  \n",
       "123                       0               60           0             2  "
      ]
     },
     "execution_count": 29,
     "metadata": {},
     "output_type": "execute_result"
    }
   ],
   "source": [
    "enc_studentProfile_df.head()"
   ]
  },
  {
   "cell_type": "code",
   "execution_count": 30,
   "id": "eb19921e",
   "metadata": {},
   "outputs": [
    {
     "data": {
      "text/plain": [
       "<AxesSubplot:title={'center':'MultiCons Approach'}, xlabel='studied_credits', ylabel='final_result'>"
      ]
     },
     "execution_count": 30,
     "metadata": {},
     "output_type": "execute_result"
    },
    {
     "data": {
      "image/png": "[encoded data removed]",
      "text/plain": [
       "<Figure size 432x288 with 1 Axes>"
      ]
     },
     "metadata": {
      "needs_background": "light"
     },
     "output_type": "display_data"
    }
   ],
   "source": [
    "enc_studentProfile_df.plot.scatter(\n",
    "    title = \"MultiCons Approach\",\n",
    "    x = 'studied_credits',\n",
    "    y = 'final_result',\n",
    "    c = base_clusterings[0],\n",
    ")"
   ]
  },
  {
   "cell_type": "code",
   "execution_count": null,
   "id": "731fd6a3",
   "metadata": {},
   "outputs": [],
   "source": []
  }
 ],
 "metadata": {
  "kernelspec": {
   "display_name": "Python 3 (ipykernel)",
   "language": "python",
   "name": "python3"
  },
  "language_info": {
   "codemirror_mode": {
    "name": "ipython",
    "version": 3
   },
   "file_extension": ".py",
   "mimetype": "text/x-python",
   "name": "python",
   "nbconvert_exporter": "python",
   "pygments_lexer": "ipython3",
   "version": "3.9.12"
  }
 },
 "nbformat": 4,
 "nbformat_minor": 5
}
